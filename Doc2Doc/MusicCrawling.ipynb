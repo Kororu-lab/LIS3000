{
 "cells": [
  {
   "cell_type": "code",
   "execution_count": 1,
   "id": "33074edc",
   "metadata": {
    "scrolled": true
   },
   "outputs": [
    {
     "name": "stdout",
     "output_type": "stream",
     "text": [
      "Collecting selenium\n",
      "  Downloading selenium-4.9.1-py3-none-any.whl (6.6 MB)\n",
      "                                              0.0/6.6 MB ? eta -:--:--\n",
      "     ---------                                1.6/6.6 MB 50.2 MB/s eta 0:00:01\n",
      "     ------------------------                 4.0/6.6 MB 51.1 MB/s eta 0:00:01\n",
      "     ---------------------------------------  6.5/6.6 MB 52.3 MB/s eta 0:00:01\n",
      "     ---------------------------------------- 6.6/6.6 MB 46.7 MB/s eta 0:00:00\n",
      "Requirement already satisfied: urllib3[socks]<3,>=1.26 in c:\\users\\chiwoong\\appdata\\local\\programs\\python\\python310\\lib\\site-packages (from selenium) (1.26.15)\n",
      "Collecting trio~=0.17 (from selenium)\n",
      "  Downloading trio-0.22.0-py3-none-any.whl (384 kB)\n",
      "                                              0.0/384.9 kB ? eta -:--:--\n",
      "     ------------------------------------- 384.9/384.9 kB 23.4 MB/s eta 0:00:00\n",
      "Collecting trio-websocket~=0.9 (from selenium)\n",
      "  Downloading trio_websocket-0.10.2-py3-none-any.whl (17 kB)\n",
      "Requirement already satisfied: certifi>=2021.10.8 in c:\\users\\chiwoong\\appdata\\local\\programs\\python\\python310\\lib\\site-packages (from selenium) (2022.12.7)\n",
      "Requirement already satisfied: attrs>=19.2.0 in c:\\users\\chiwoong\\appdata\\local\\programs\\python\\python310\\lib\\site-packages (from trio~=0.17->selenium) (22.2.0)\n",
      "Collecting sortedcontainers (from trio~=0.17->selenium)\n",
      "  Downloading sortedcontainers-2.4.0-py2.py3-none-any.whl (29 kB)\n",
      "Collecting async-generator>=1.9 (from trio~=0.17->selenium)\n",
      "  Downloading async_generator-1.10-py3-none-any.whl (18 kB)\n",
      "Requirement already satisfied: idna in c:\\users\\chiwoong\\appdata\\local\\programs\\python\\python310\\lib\\site-packages (from trio~=0.17->selenium) (3.4)\n",
      "Collecting outcome (from trio~=0.17->selenium)\n",
      "  Downloading outcome-1.2.0-py2.py3-none-any.whl (9.7 kB)\n",
      "Requirement already satisfied: sniffio in c:\\users\\chiwoong\\appdata\\local\\programs\\python\\python310\\lib\\site-packages (from trio~=0.17->selenium) (1.3.0)\n",
      "Requirement already satisfied: cffi>=1.14 in c:\\users\\chiwoong\\appdata\\local\\programs\\python\\python310\\lib\\site-packages (from trio~=0.17->selenium) (1.15.1)\n",
      "Collecting exceptiongroup>=1.0.0rc9 (from trio~=0.17->selenium)\n",
      "  Downloading exceptiongroup-1.1.1-py3-none-any.whl (14 kB)\n",
      "Collecting wsproto>=0.14 (from trio-websocket~=0.9->selenium)\n",
      "  Downloading wsproto-1.2.0-py3-none-any.whl (24 kB)\n",
      "Collecting PySocks!=1.5.7,<2.0,>=1.5.6 (from urllib3[socks]<3,>=1.26->selenium)\n",
      "  Using cached PySocks-1.7.1-py3-none-any.whl (16 kB)\n",
      "Requirement already satisfied: pycparser in c:\\users\\chiwoong\\appdata\\local\\programs\\python\\python310\\lib\\site-packages (from cffi>=1.14->trio~=0.17->selenium) (2.21)\n",
      "Collecting h11<1,>=0.9.0 (from wsproto>=0.14->trio-websocket~=0.9->selenium)\n",
      "  Downloading h11-0.14.0-py3-none-any.whl (58 kB)\n",
      "                                              0.0/58.3 kB ? eta -:--:--\n",
      "     ---------------------------------------- 58.3/58.3 kB ? eta 0:00:00\n",
      "Installing collected packages: sortedcontainers, PySocks, outcome, h11, exceptiongroup, async-generator, wsproto, trio, trio-websocket, selenium\n",
      "Successfully installed PySocks-1.7.1 async-generator-1.10 exceptiongroup-1.1.1 h11-0.14.0 outcome-1.2.0 selenium-4.9.1 sortedcontainers-2.4.0 trio-0.22.0 trio-websocket-0.10.2 wsproto-1.2.0\n"
     ]
    }
   ],
   "source": [
    "!pip install selenium"
   ]
  },
  {
   "cell_type": "code",
   "execution_count": 1,
   "id": "6ede2679",
   "metadata": {},
   "outputs": [],
   "source": [
    "import pandas as pd  # 판다스 : 데이터분석 라이브러리\n",
    "\n",
    "from selenium import webdriver   # 웹 브라우저 자동화\n",
    "\n",
    "import time    # 서버와 통신할 때 중간중간 시간 지연. 보통은 1초를 사용하지만, 여기에서는 2초나 3초도 사용합니다.\n",
    "\n",
    "from tqdm.notebook import tqdm    # for문을 실행할 때 진행상황을 %게이지로알려줍니다."
   ]
  },
  {
   "cell_type": "code",
   "execution_count": 2,
   "id": "87d886dd",
   "metadata": {},
   "outputs": [
    {
     "name": "stderr",
     "output_type": "stream",
     "text": [
      "C:\\Users\\Chiwoong\\AppData\\Local\\Temp\\ipykernel_5388\\1699807508.py:3: DeprecationWarning: executable_path has been deprecated, please pass in a Service object\n",
      "  driver = webdriver.Chrome(path)\n"
     ]
    }
   ],
   "source": [
    "# 웹브라우저 설정\n",
    "path = \"d:\\chromedriver\"\n",
    "driver = webdriver.Chrome(path)\n",
    "\n",
    "# 사이트 주소는 Melon(음원사이트)\n",
    "driver.get('http://www.melon.com')\n",
    "time.sleep(2)  # 2초간 정지"
   ]
  },
  {
   "cell_type": "code",
   "execution_count": 5,
   "id": "e8e57ae3",
   "metadata": {},
   "outputs": [],
   "source": [
    "from selenium.webdriver.common.by import By\n",
    "\n",
    "# 멜론차트 클릭\n",
    "driver.find_element(By.CSS_SELECTOR, \".menu_bg.menu01\").click()\n",
    "\n",
    "# 실행을 기다려줍니다\n",
    "time.sleep(1)\n",
    "\n",
    "# 일간차트 클릭\n",
    "driver.find_element(By.CSS_SELECTOR, \".menu_chart.m2\").click()\n"
   ]
  },
  {
   "cell_type": "code",
   "execution_count": 14,
   "id": "c6d9de35",
   "metadata": {
    "scrolled": false
   },
   "outputs": [],
   "source": [
    "# 곡정보 더보기 버튼 클릭1\n",
    "more_info_list = driver.find_elements(By.CSS_SELECTOR, \".btn.button_icons.type03.song_info\")\n",
    "more_info_list[0].click()\n",
    "time.sleep(1)"
   ]
  },
  {
   "cell_type": "code",
   "execution_count": 10,
   "id": "f7eeb695",
   "metadata": {},
   "outputs": [
    {
     "ename": "IndexError",
     "evalue": "list index out of range",
     "output_type": "error",
     "traceback": [
      "\u001b[1;31m---------------------------------------------------------------------------\u001b[0m",
      "\u001b[1;31mIndexError\u001b[0m                                Traceback (most recent call last)",
      "Cell \u001b[1;32mIn[10], line 3\u001b[0m\n\u001b[0;32m      1\u001b[0m \u001b[39m# 곡정보 더보기 버튼 클릭2\u001b[39;00m\n\u001b[0;32m      2\u001b[0m more_info_list \u001b[39m=\u001b[39m driver\u001b[39m.\u001b[39mfind_elements(By\u001b[39m.\u001b[39mCSS_SELECTOR, \u001b[39m\"\u001b[39m\u001b[39m.btn.button_icons.type03.song_info\u001b[39m\u001b[39m\"\u001b[39m)\n\u001b[1;32m----> 3\u001b[0m more_info_list[\u001b[39m1\u001b[39;49m]\u001b[39m.\u001b[39mclick()\n\u001b[0;32m      4\u001b[0m time\u001b[39m.\u001b[39msleep(\u001b[39m1\u001b[39m)\n",
      "\u001b[1;31mIndexError\u001b[0m: list index out of range"
     ]
    }
   ],
   "source": [
    "# 곡정보 더보기 버튼 클릭2\n",
    "more_info_list = driver.find_elements(By.CSS_SELECTOR, \".btn.button_icons.type03.song_info\")\n",
    "more_info_list[1].click()\n",
    "time.sleep(1)"
   ]
  },
  {
   "cell_type": "code",
   "execution_count": 12,
   "id": "619f0935",
   "metadata": {},
   "outputs": [
    {
     "data": {
      "text/plain": [
       "'I AM'"
      ]
     },
     "execution_count": 12,
     "metadata": {},
     "output_type": "execute_result"
    }
   ],
   "source": [
    "# 제목 가져오기\n",
    "song = driver.find_element(By.CSS_SELECTOR, \".song_name\")\n",
    "song.text"
   ]
  },
  {
   "cell_type": "code",
   "execution_count": 13,
   "id": "aa74fd48",
   "metadata": {},
   "outputs": [
    {
     "ename": "AttributeError",
     "evalue": "'WebDriver' object has no attribute 'find_element_by_css_selector'",
     "output_type": "error",
     "traceback": [
      "\u001b[1;31m---------------------------------------------------------------------------\u001b[0m",
      "\u001b[1;31mAttributeError\u001b[0m                            Traceback (most recent call last)",
      "Cell \u001b[1;32mIn[13], line 2\u001b[0m\n\u001b[0;32m      1\u001b[0m \u001b[39m# 가수 가져오기\u001b[39;00m\n\u001b[1;32m----> 2\u001b[0m artist \u001b[39m=\u001b[39m driver\u001b[39m.\u001b[39;49mfind_element_by_css_selector(By\u001b[39m.\u001b[39mCSS_SELECTOR, \u001b[39m\"\u001b[39m\u001b[39m.artist\u001b[39m\u001b[39m\"\u001b[39m)\n\u001b[0;32m      3\u001b[0m artist\u001b[39m.\u001b[39mtext\n",
      "\u001b[1;31mAttributeError\u001b[0m: 'WebDriver' object has no attribute 'find_element_by_css_selector'"
     ]
    }
   ],
   "source": [
    "# 가수 가져오기\n",
    "artist = driver.find_element_by_css_selector(By.CSS_SELECTOR, \".artist\")\n",
    "artist.text"
   ]
  },
  {
   "cell_type": "code",
   "execution_count": 14,
   "id": "9eddde31",
   "metadata": {},
   "outputs": [
    {
     "data": {
      "text/plain": [
       "['앨범', \"I've IVE\", '발매일', '2023.04.10', '장르', '댄스', 'FLAC', 'Flac 16/24bit']"
      ]
     },
     "execution_count": 14,
     "metadata": {},
     "output_type": "execute_result"
    }
   ],
   "source": [
    "# 앨범 기본 정보\n",
    "meta_info = driver.find_element(By.CSS_SELECTOR, \".list\").text.split('\\n')\n",
    "meta_info"
   ]
  },
  {
   "cell_type": "code",
   "execution_count": 15,
   "id": "39e00261",
   "metadata": {},
   "outputs": [],
   "source": [
    "# 펼치기 버튼 클릭\n",
    "driver.find_element(By.CSS_SELECTOR, \".button_more.arrow_d\").click()"
   ]
  },
  {
   "cell_type": "code",
   "execution_count": 16,
   "id": "2ba1c950",
   "metadata": {
    "scrolled": false
   },
   "outputs": [
    {
     "data": {
      "text/plain": [
       "'다른 문을 열어 따라 갈 필요는 없어\\n넌 너의 길로 난 나의 길로 음\\n하루하루마다 색이 달라진 느낌\\n밝게 빛이 나는 길을 찾아\\nI’m on my way 넌 그냥 믿으면 돼\\nI’m on my way 보이는 그대로야\\n너는 누군가의 Dreams come true\\n제일 좋은 어느 날의 데자뷰\\n머물고픈 어딘가의 낯선 뷰\\nI’ll be far away\\nThat’s my\\nLife is 아름다운 갤럭시\\nBe a writer, 장르로는 판타지\\n내일 내게 열리는 건 big big 스테이지\\nSo that is who I am\\nLook at me\\nLook at me\\nLook at me\\nnow\\n어제랑 또 다른 짜릿한 나\\n두려운 모든 게 설레이게\\nI’m in sky high, OMG\\n사소한 건 다 아득해져 와\\nLook at me now\\nLook at me now\\nI’m on fire\\nI’m on my way 넌 그냥 믿으면 돼\\nI’m on my way 보이는 그대로야\\n너는 누군가의 Dreams come true\\n제일 좋은 어느 날의 데자뷰\\n머물고픈 어딘가의 낯선 뷰\\nI’ll be far away\\nThat’s my\\nLife is 아름다운 갤럭시\\nBe a writer, 장르로는 판타지\\n내일 내게 열리는 건 big big 스테이지\\nSo that is who I am\\n어느 깊은 밤 길을 잃어도\\n차라리 날아올라 그럼 네가\\n지나가는 대로 길이거든\\n1, 2, 3\\n1, 2, 3\\n1, 2, 3\\nFly up\\nI hope you’d be someone’s\\ndreams come true\\n제일 좋은 어느 날의 데자뷰\\n머물고픈 어딘가의 낯선 뷰\\nI’ll be far away\\nThat’s my\\nLife is 아름다운 갤럭시\\nBe a writer, 장르로는 판타지\\n내일 내게 열리는 건 big big 스테이지\\nSo that is who I am'"
      ]
     },
     "execution_count": 16,
     "metadata": {},
     "output_type": "execute_result"
    }
   ],
   "source": [
    "# 가사 출력이 잘 되는지 확인\n",
    "lyric = driver.find_element(By.CSS_SELECTOR, \".lyric.on\")\n",
    "lyric.text"
   ]
  },
  {
   "cell_type": "code",
   "execution_count": 17,
   "id": "56154477",
   "metadata": {},
   "outputs": [
    {
     "name": "stdout",
     "output_type": "stream",
     "text": [
      "  title     artist                                             lyrics\n",
      "0  I AM  IVE (아이브)  다른 문을 열어 따라 갈 필요는 없어\\n넌 너의 길로 난 나의 길로 음\\n하루하루마...\n"
     ]
    }
   ],
   "source": [
    "import pandas as pd\n",
    "\n",
    "# 열을 정의\n",
    "col1 = ['I AM']\n",
    "col2 = ['IVE (아이브)']\n",
    "col3 = ['다른 문을 열어 따라 갈 필요는 없어\\n넌 너의 길로 난 나의 길로 음\\n하루하루마다 색이 달라진 느낌\\n밝게 빛이 나는 길을 찾아\\nI’m on my way 넌 그냥 믿으면 돼\\nI’m on my way 보이는 그대로야\\n너는 누군가의 Dreams come true\\n제일 좋은 어느 날의 데자뷰\\n머물고픈 어딘가의 낯선 뷰\\nI’ll be far away\\nThat’s my\\nLife is 아름다운 갤럭시\\nBe a writer, 장르로는 판타지\\n내일 내게 열리는 건 big big 스테이지\\nSo that is who I am\\nLook at me\\nLook at me\\nLook at me\\nnow\\n어제랑 또 다른 짜릿한 나\\n두려운 모든 게 설레이게\\nI’m in sky high, OMG\\n사소한 건 다 아득해져 와\\nLook at me now\\nLook at me now\\nI’m on fire\\nI’m on my way 넌 그냥 믿으면 돼\\nI’m on my way 보이는 그대로야\\n너는 누군가의 Dreams come true\\n제일 좋은 어느 날의 데자뷰\\n머물고픈 어딘가의 낯선 뷰\\nI’ll be far away\\nThat’s my\\nLife is 아름다운 갤럭시\\nBe a writer, 장르로는 판타지\\n내일 내게 열리는 건 big big 스테이지\\nSo that is who I am\\n어느 깊은 밤 길을 잃어도\\n차라리 날아올라 그럼 네가\\n지나가는 대로 길이거든\\n1, 2, 3\\n1, 2, 3\\n1, 2, 3\\nFly up\\nI hope you’d be someone’s\\ndreams come true\\n제일 좋은 어느 날의 데자뷰\\n머물고픈 어딘가의 낯선 뷰\\nI’ll be far away\\nThat’s my\\nLife is 아름다운 갤럭시\\nBe a writer, 장르로는 판타지\\n내일 내게 열리는 건 big big 스테이지\\nSo that is who I am']\n",
    "\n",
    "# DataFrame을 생성\n",
    "df = pd.DataFrame({'title': col1, 'artist': col2, 'lyrics': col3})\n",
    "\n",
    "# DataFrame 출력\n",
    "print(df)"
   ]
  },
  {
   "cell_type": "code",
   "execution_count": 20,
   "id": "acbd29e4",
   "metadata": {},
   "outputs": [
    {
     "ename": "IndexError",
     "evalue": "list index out of range",
     "output_type": "error",
     "traceback": [
      "\u001b[1;31m---------------------------------------------------------------------------\u001b[0m",
      "\u001b[1;31mIndexError\u001b[0m                                Traceback (most recent call last)",
      "Cell \u001b[1;32mIn[20], line 4\u001b[0m\n\u001b[0;32m      1\u001b[0m \u001b[39mfor\u001b[39;00m i \u001b[39min\u001b[39;00m \u001b[39mrange\u001b[39m(\u001b[39m10\u001b[39m):\n\u001b[0;32m      2\u001b[0m \u001b[39m# 곡정보 더보기 버튼 클릭2\u001b[39;00m\n\u001b[0;32m      3\u001b[0m     more_info_list \u001b[39m=\u001b[39m driver\u001b[39m.\u001b[39mfind_elements(By\u001b[39m.\u001b[39mCSS_SELECTOR, \u001b[39m\"\u001b[39m\u001b[39m.btn.button_icons.type03.song_info\u001b[39m\u001b[39m\"\u001b[39m)\n\u001b[1;32m----> 4\u001b[0m     more_info_list[\u001b[39m1\u001b[39;49m]\u001b[39m.\u001b[39mclick()\n\u001b[0;32m      5\u001b[0m     time\u001b[39m.\u001b[39msleep(\u001b[39m1\u001b[39m)\n",
      "\u001b[1;31mIndexError\u001b[0m: list index out of range"
     ]
    }
   ],
   "source": [
    "for i in rang\n",
    "# 곡정보 더보기 버튼 클릭2\n",
    "more_info_list = driver.find_elements(By.CSS_SELECTOR, \".btn.button_icons.type03.song_info\")\n",
    "more_info_list[1].click()\n",
    "time.sleep(1)"
   ]
  },
  {
   "cell_type": "code",
   "execution_count": 21,
   "id": "e46054bd",
   "metadata": {},
   "outputs": [
    {
     "data": {
      "text/plain": [
       "'I AM'"
      ]
     },
     "execution_count": 21,
     "metadata": {},
     "output_type": "execute_result"
    }
   ],
   "source": [
    "# 제목 가져오기\n",
    "song = driver.find_element(By.CSS_SELECTOR, \".song_name\")\n",
    "song.text"
   ]
  },
  {
   "cell_type": "code",
   "execution_count": 21,
   "id": "377b4583",
   "metadata": {},
   "outputs": [
    {
     "name": "stderr",
     "output_type": "stream",
     "text": [
      "/var/folders/rw/gjfv1ng554b49flmdwrm_4mh0000gn/T/ipykernel_6363/1904902687.py:2: DeprecationWarning: find_element_by_css_selector is deprecated. Please use find_element(by=By.CSS_SELECTOR, value=css_selector) instead\n",
      "  artist = driver.find_element_by_css_selector(\".artist\")\n"
     ]
    },
    {
     "data": {
      "text/plain": [
       "'LE SSERAFIM (르세라핌)'"
      ]
     },
     "execution_count": 21,
     "metadata": {},
     "output_type": "execute_result"
    }
   ],
   "source": [
    "# 가수 가져오기\n",
    "artist = driver.find_element(\".artist\")\n",
    "artist.text"
   ]
  },
  {
   "cell_type": "code",
   "execution_count": 24,
   "id": "6eca531e",
   "metadata": {},
   "outputs": [
    {
     "name": "stderr",
     "output_type": "stream",
     "text": [
      "/var/folders/rw/gjfv1ng554b49flmdwrm_4mh0000gn/T/ipykernel_6363/4034942375.py:2: DeprecationWarning: find_element_by_css_selector is deprecated. Please use find_element(by=By.CSS_SELECTOR, value=css_selector) instead\n",
      "  driver.find_element_by_css_selector(\".button_more.arrow_d\").click()\n"
     ]
    }
   ],
   "source": [
    "# 펼치기 버튼 클릭\n",
    "driver.find_element_by_css_selector(\".button_more.arrow_d\").click()"
   ]
  },
  {
   "cell_type": "code",
   "execution_count": 25,
   "id": "09bee5e1",
   "metadata": {},
   "outputs": [
    {
     "name": "stderr",
     "output_type": "stream",
     "text": [
      "/var/folders/rw/gjfv1ng554b49flmdwrm_4mh0000gn/T/ipykernel_6363/2974862548.py:2: DeprecationWarning: find_element_by_css_selector is deprecated. Please use find_element(by=By.CSS_SELECTOR, value=css_selector) instead\n",
      "  lyric = driver.find_element_by_css_selector(\".lyric.on\")\n"
     ]
    },
    {
     "data": {
      "text/plain": [
       "\"Unforgiven I’m a villain I’m a\\nUnforgiven 난 그 길을 걸어\\nUnforgiven I’m a villain I’m a\\n새 시대로 기억될 unforgiven\\nYeah what you want?\\n불편함이 깃든 face, wanna shut me up\\n사냥감을 거듭해 찾는 워리어S\\n너의 game에 난 문제아\\nsuch a freak 골칫거리\\nLet me tell you ‘bout LE SSERAFIM\\n내가 제일 싫은 건 낡은 대물림\\n어둠 속 불을 켜 마치 rebellion\\nWe gonna kick it break it\\nrules gon’ give up\\nUnforgiven yes I was bleeding\\n힘없이 늘 져야만 했던 싸움 but I ride\\n바란 적도 없어 용서 따위는\\n난 금기를 겨눠 watch me now\\nNow now now\\nUnforgiven I’m a villain I’m a\\nUnforgiven 난 그 길을 걸어\\nUnforgiven I’m a villain I’m a\\n새 시대로 기억될 unforgiven\\n나랑 저 너머 같이 가자\\nmy “unforgiven girls”\\n나랑 선 넘어 같이 가자\\nmy “unforgiven boys”\\nUnforgiven unforgiven unforgiven\\n한계 위로 남겨지는 우리 이름\\n나랑 저 너머 같이 가자\\nmy “unforgiven girls”\\nU-unforgiven-given-given\\n내 style로 livin’ livin’ livin’\\n내 방식 아주 원 없이\\n또 한국말론 아주 “철없이”\\nGet started let’s get started\\n미래 그 앞에 새겨둬 나의 story\\n신념이 죄면 난 villain,\\nI'm not that cinderella type of a girl\\nUnforgiven yes I was bleeding\\n힘없이 늘 져야만 했던 싸움 but I ride\\n바란 적도 없어 용서 따위는\\n난 금기를 겨눠 watch me now\\nNow now now\\nUnforgiven I’m a villain I’m a\\nUnforgiven 난 그 길을 걸어\\nUnforgiven I’m a villain I’m a\\n새 시대로 기억될 unforgiven\\n나랑 저 너머 같이 가자\\nmy “unforgiven girls”\\n나랑 선 넘어 같이 가자\\nmy “unforgiven boys”\\nUnforgiven unforgiven unforgiven\\n한계 위로 남겨지는 우리 이름\\n나랑 저 너머 같이 가자\\nmy “unforgiven girls”\\nUnforgiven I’m a villain I’m a\\nUnforgiven 난 그 길을 걸어\\nUnforgiven I’m a villain I’m a\\nUnforgiven 난 그 길을 걸어\\nOh I will never be a clown\\nOh 보게 될 거야 나다움\\nOh 내 목소린 좀 loud\\nOh I don’t care just shout it out!\\n나랑 저 너머 같이 가자\\nmy “unforgiven girls”\\n나랑 선 넘어 같이 가자\\nmy “unforgiven boys”\\nUnforgiven unforgiven unforgiven\\n한계 위로 남겨지는 우리 이름\\n나랑 저 너머 같이 가자\\nmy “unforgiven girls”\""
      ]
     },
     "execution_count": 25,
     "metadata": {},
     "output_type": "execute_result"
    }
   ],
   "source": [
    "# 가사 출력이 잘 되는지 확인\n",
    "lyric = driver.find_element_by_css_selector(\".lyric.on\")\n",
    "lyric.text"
   ]
  },
  {
   "cell_type": "code",
   "execution_count": 23,
   "id": "1236010d",
   "metadata": {},
   "outputs": [
    {
     "ename": "StaleElementReferenceException",
     "evalue": "Message: stale element reference: stale element not found\n  (Session info: chrome=113.0.5672.127)\nStacktrace:\nBacktrace:\n\tGetHandleVerifier [0x009F8893+48451]\n\t(No symbol) [0x0098B8A1]\n\t(No symbol) [0x00895058]\n\t(No symbol) [0x0089E1F3]\n\t(No symbol) [0x008986C8]\n\t(No symbol) [0x00897853]\n\t(No symbol) [0x00899631]\n\t(No symbol) [0x008996D0]\n\t(No symbol) [0x008BCE4D]\n\t(No symbol) [0x008DA2BC]\n\t(No symbol) [0x008B9586]\n\t(No symbol) [0x008DA614]\n\t(No symbol) [0x008EC482]\n\t(No symbol) [0x008DA0B6]\n\t(No symbol) [0x008B7E08]\n\t(No symbol) [0x008B8F2D]\n\tGetHandleVerifier [0x00C58E3A+2540266]\n\tGetHandleVerifier [0x00C98959+2801161]\n\tGetHandleVerifier [0x00C9295C+2776588]\n\tGetHandleVerifier [0x00A82280+612144]\n\t(No symbol) [0x00994F6C]\n\t(No symbol) [0x009911D8]\n\t(No symbol) [0x009912BB]\n\t(No symbol) [0x00984857]\n\tBaseThreadInitThunk [0x767D00C9+25]\n\tRtlGetAppContainerNamedObjectPath [0x770F7B4E+286]\n\tRtlGetAppContainerNamedObjectPath [0x770F7B1E+238]\n",
     "output_type": "error",
     "traceback": [
      "\u001b[1;31m---------------------------------------------------------------------------\u001b[0m",
      "\u001b[1;31mStaleElementReferenceException\u001b[0m            Traceback (most recent call last)",
      "Cell \u001b[1;32mIn[23], line 1\u001b[0m\n\u001b[1;32m----> 1\u001b[0m new_row \u001b[39m=\u001b[39m {\u001b[39m'\u001b[39m\u001b[39mtitle\u001b[39m\u001b[39m'\u001b[39m: song\u001b[39m.\u001b[39;49mtext, \u001b[39m'\u001b[39m\u001b[39martist\u001b[39m\u001b[39m'\u001b[39m: artist\u001b[39m.\u001b[39mtext, \u001b[39m'\u001b[39m\u001b[39mlyrics\u001b[39m\u001b[39m'\u001b[39m: lyric\u001b[39m.\u001b[39mtext}\n\u001b[0;32m      2\u001b[0m df \u001b[39m=\u001b[39m df\u001b[39m.\u001b[39mappend(new_row, ignore_index\u001b[39m=\u001b[39m\u001b[39mTrue\u001b[39;00m)\n",
      "File \u001b[1;32mc:\\Users\\Chiwoong\\AppData\\Local\\Programs\\Python\\Python310\\lib\\site-packages\\selenium\\webdriver\\remote\\webelement.py:90\u001b[0m, in \u001b[0;36mWebElement.text\u001b[1;34m(self)\u001b[0m\n\u001b[0;32m     87\u001b[0m \u001b[39m@property\u001b[39m\n\u001b[0;32m     88\u001b[0m \u001b[39mdef\u001b[39;00m \u001b[39mtext\u001b[39m(\u001b[39mself\u001b[39m) \u001b[39m-\u001b[39m\u001b[39m>\u001b[39m \u001b[39mstr\u001b[39m:\n\u001b[0;32m     89\u001b[0m \u001b[39m    \u001b[39m\u001b[39m\"\"\"The text of the element.\"\"\"\u001b[39;00m\n\u001b[1;32m---> 90\u001b[0m     \u001b[39mreturn\u001b[39;00m \u001b[39mself\u001b[39;49m\u001b[39m.\u001b[39;49m_execute(Command\u001b[39m.\u001b[39;49mGET_ELEMENT_TEXT)[\u001b[39m\"\u001b[39m\u001b[39mvalue\u001b[39m\u001b[39m\"\u001b[39m]\n",
      "File \u001b[1;32mc:\\Users\\Chiwoong\\AppData\\Local\\Programs\\Python\\Python310\\lib\\site-packages\\selenium\\webdriver\\remote\\webelement.py:403\u001b[0m, in \u001b[0;36mWebElement._execute\u001b[1;34m(self, command, params)\u001b[0m\n\u001b[0;32m    401\u001b[0m     params \u001b[39m=\u001b[39m {}\n\u001b[0;32m    402\u001b[0m params[\u001b[39m\"\u001b[39m\u001b[39mid\u001b[39m\u001b[39m\"\u001b[39m] \u001b[39m=\u001b[39m \u001b[39mself\u001b[39m\u001b[39m.\u001b[39m_id\n\u001b[1;32m--> 403\u001b[0m \u001b[39mreturn\u001b[39;00m \u001b[39mself\u001b[39;49m\u001b[39m.\u001b[39;49m_parent\u001b[39m.\u001b[39;49mexecute(command, params)\n",
      "File \u001b[1;32mc:\\Users\\Chiwoong\\AppData\\Local\\Programs\\Python\\Python310\\lib\\site-packages\\selenium\\webdriver\\remote\\webdriver.py:440\u001b[0m, in \u001b[0;36mWebDriver.execute\u001b[1;34m(self, driver_command, params)\u001b[0m\n\u001b[0;32m    438\u001b[0m response \u001b[39m=\u001b[39m \u001b[39mself\u001b[39m\u001b[39m.\u001b[39mcommand_executor\u001b[39m.\u001b[39mexecute(driver_command, params)\n\u001b[0;32m    439\u001b[0m \u001b[39mif\u001b[39;00m response:\n\u001b[1;32m--> 440\u001b[0m     \u001b[39mself\u001b[39;49m\u001b[39m.\u001b[39;49merror_handler\u001b[39m.\u001b[39;49mcheck_response(response)\n\u001b[0;32m    441\u001b[0m     response[\u001b[39m\"\u001b[39m\u001b[39mvalue\u001b[39m\u001b[39m\"\u001b[39m] \u001b[39m=\u001b[39m \u001b[39mself\u001b[39m\u001b[39m.\u001b[39m_unwrap_value(response\u001b[39m.\u001b[39mget(\u001b[39m\"\u001b[39m\u001b[39mvalue\u001b[39m\u001b[39m\"\u001b[39m, \u001b[39mNone\u001b[39;00m))\n\u001b[0;32m    442\u001b[0m     \u001b[39mreturn\u001b[39;00m response\n",
      "File \u001b[1;32mc:\\Users\\Chiwoong\\AppData\\Local\\Programs\\Python\\Python310\\lib\\site-packages\\selenium\\webdriver\\remote\\errorhandler.py:245\u001b[0m, in \u001b[0;36mErrorHandler.check_response\u001b[1;34m(self, response)\u001b[0m\n\u001b[0;32m    243\u001b[0m         alert_text \u001b[39m=\u001b[39m value[\u001b[39m\"\u001b[39m\u001b[39malert\u001b[39m\u001b[39m\"\u001b[39m]\u001b[39m.\u001b[39mget(\u001b[39m\"\u001b[39m\u001b[39mtext\u001b[39m\u001b[39m\"\u001b[39m)\n\u001b[0;32m    244\u001b[0m     \u001b[39mraise\u001b[39;00m exception_class(message, screen, stacktrace, alert_text)  \u001b[39m# type: ignore[call-arg]  # mypy is not smart enough here\u001b[39;00m\n\u001b[1;32m--> 245\u001b[0m \u001b[39mraise\u001b[39;00m exception_class(message, screen, stacktrace)\n",
      "\u001b[1;31mStaleElementReferenceException\u001b[0m: Message: stale element reference: stale element not found\n  (Session info: chrome=113.0.5672.127)\nStacktrace:\nBacktrace:\n\tGetHandleVerifier [0x009F8893+48451]\n\t(No symbol) [0x0098B8A1]\n\t(No symbol) [0x00895058]\n\t(No symbol) [0x0089E1F3]\n\t(No symbol) [0x008986C8]\n\t(No symbol) [0x00897853]\n\t(No symbol) [0x00899631]\n\t(No symbol) [0x008996D0]\n\t(No symbol) [0x008BCE4D]\n\t(No symbol) [0x008DA2BC]\n\t(No symbol) [0x008B9586]\n\t(No symbol) [0x008DA614]\n\t(No symbol) [0x008EC482]\n\t(No symbol) [0x008DA0B6]\n\t(No symbol) [0x008B7E08]\n\t(No symbol) [0x008B8F2D]\n\tGetHandleVerifier [0x00C58E3A+2540266]\n\tGetHandleVerifier [0x00C98959+2801161]\n\tGetHandleVerifier [0x00C9295C+2776588]\n\tGetHandleVerifier [0x00A82280+612144]\n\t(No symbol) [0x00994F6C]\n\t(No symbol) [0x009911D8]\n\t(No symbol) [0x009912BB]\n\t(No symbol) [0x00984857]\n\tBaseThreadInitThunk [0x767D00C9+25]\n\tRtlGetAppContainerNamedObjectPath [0x770F7B4E+286]\n\tRtlGetAppContainerNamedObjectPath [0x770F7B1E+238]\n"
     ]
    }
   ],
   "source": [
    "new_row = {'title': song.text, 'artist': artist.text, 'lyrics': lyric.text}\n",
    "df = pd.concat([df, pd.DataFrame([new_row])], ignore_index=True)"
   ]
  },
  {
   "cell_type": "code",
   "execution_count": 6,
   "id": "afa90f73",
   "metadata": {},
   "outputs": [
    {
     "name": "stdout",
     "output_type": "stream",
     "text": [
      "Requirement already satisfied: chromedriver-autoinstaller in c:\\users\\chiwoong\\appdata\\local\\programs\\python\\python310\\lib\\site-packages (0.4.0)\n"
     ]
    }
   ],
   "source": [
    "!pip install chromedriver-autoinstaller"
   ]
  },
  {
   "cell_type": "code",
   "execution_count": 7,
   "id": "6977abb7",
   "metadata": {},
   "outputs": [
    {
     "name": "stderr",
     "output_type": "stream",
     "text": [
      "C:\\Users\\Chiwoong\\AppData\\Local\\Temp\\ipykernel_14808\\1118408097.py:7: DeprecationWarning: executable_path has been deprecated, please pass in a Service object\n",
      "  driver = webdriver.Chrome(f'./{chrome_ver}/chromedriver.exe')\n"
     ]
    }
   ],
   "source": [
    "from selenium import webdriver\n",
    "import chromedriver_autoinstaller\n",
    "\n",
    "chrome_ver = chromedriver_autoinstaller.get_chrome_version().split('.')[0]  #크롬드라이버 버전 확인\n",
    "\n",
    "try:\n",
    "    driver = webdriver.Chrome(f'./{chrome_ver}/chromedriver.exe')   \n",
    "except:\n",
    "    chromedriver_autoinstaller.install(True)\n",
    "    driver = webdriver.Chrome(f'./{chrome_ver}/chromedriver.exe')\n",
    "\n",
    "driver.implicitly_wait(10)"
   ]
  },
  {
   "cell_type": "code",
   "execution_count": 12,
   "id": "4bdf7dd0",
   "metadata": {},
   "outputs": [
    {
     "name": "stderr",
     "output_type": "stream",
     "text": [
      "C:\\Users\\Chiwoong\\AppData\\Local\\Temp\\ipykernel_14808\\2656273742.py:14: DeprecationWarning: executable_path has been deprecated, please pass in a Service object\n",
      "  driver = webdriver.Chrome(f'./{chrome_ver}/chromedriver.exe', options=option)\n"
     ]
    }
   ],
   "source": [
    "from selenium import webdriver\n",
    "from selenium.webdriver.chrome.options import Options\n",
    "import chromedriver_autoinstaller\n",
    "import subprocess\n",
    "\n",
    "subprocess.Popen(r'C:\\Program Files\\Google\\Chrome\\Application\\chrome.exe --remote-debugging-port=9222 --user-data-dir=\"C:\\chrometemp\"') # 디버거 크롬 구동\n",
    "\n",
    "\n",
    "option = Options()\n",
    "option.add_experimental_option(\"debuggerAddress\", \"127.0.0.1:9222\")\n",
    "\n",
    "chrome_ver = chromedriver_autoinstaller.get_chrome_version().split('.')[0]\n",
    "try:\n",
    "    driver = webdriver.Chrome(f'./{chrome_ver}/chromedriver.exe', options=option)\n",
    "except:\n",
    "    chromedriver_autoinstaller.install(True)\n",
    "    driver = webdriver.Chrome(f'./{chrome_ver}/chromedriver.exe', options=option)\n",
    "driver.implicitly_wait(10)"
   ]
  },
  {
   "cell_type": "code",
   "execution_count": 10,
   "id": "070534ab",
   "metadata": {},
   "outputs": [],
   "source": [
    "import pandas as pd  # 판다스 : 데이터분석 라이브러리\n",
    "\n",
    "from selenium import webdriver   # 웹 브라우저 자동화\n",
    "\n",
    "import time    # 서버와 통신할 때 중간중간 시간 지연. 보통은 1초를 사용하지만, 여기에서는 2초나 3초도 사용합니다.\n",
    "\n",
    "from tqdm.notebook import tqdm    # for문을 실행할 때 진행상황을 %게이지로알려줍니다.\n",
    "\n",
    "from selenium.webdriver.common.by import By"
   ]
  },
  {
   "cell_type": "code",
   "execution_count": null,
   "id": "605b1e16",
   "metadata": {},
   "outputs": [],
   "source": [
    "# 크롬 웹브라우저 실행\n",
    "path = \"d:\\chromedriver.exe\"\n",
    "\n",
    "driver = webdriver.Chrome(path)"
   ]
  },
  {
   "cell_type": "code",
   "execution_count": 1,
   "id": "279a7565",
   "metadata": {},
   "outputs": [
    {
     "name": "stderr",
     "output_type": "stream",
     "text": [
      "C:\\Users\\Chiwoong\\AppData\\Local\\Temp\\ipykernel_14344\\1654581877.py:7: DeprecationWarning: executable_path has been deprecated, please pass in a Service object\n",
      "  driver = webdriver.Chrome(f'./{chrome_ver}/chromedriver.exe')\n",
      "C:\\Users\\Chiwoong\\AppData\\Local\\Temp\\ipykernel_14344\\1654581877.py:27: DeprecationWarning: executable_path has been deprecated, please pass in a Service object\n",
      "  driver = webdriver.Chrome(f'./{chrome_ver}/chromedriver.exe', options=option)\n"
     ]
    }
   ],
   "source": [
    "from selenium import webdriver\n",
    "import chromedriver_autoinstaller\n",
    "\n",
    "chrome_ver = chromedriver_autoinstaller.get_chrome_version().split('.')[0]  #크롬드라이버 버전 확인\n",
    "\n",
    "try:\n",
    "    driver = webdriver.Chrome(f'./{chrome_ver}/chromedriver.exe')   \n",
    "except:\n",
    "    chromedriver_autoinstaller.install(True)\n",
    "    driver = webdriver.Chrome(f'./{chrome_ver}/chromedriver.exe')\n",
    "\n",
    "driver.implicitly_wait(10)\n",
    "\n",
    "from selenium import webdriver\n",
    "from selenium.webdriver.chrome.options import Options\n",
    "import chromedriver_autoinstaller\n",
    "import subprocess\n",
    "\n",
    "subprocess.Popen(r'C:\\Program Files\\Google\\Chrome\\Application\\chrome.exe --remote-debugging-port=9222 --user-data-dir=\"C:\\chrometemp\"') # 디버거 크롬 구동\n",
    "\n",
    "\n",
    "option = Options()\n",
    "option.add_experimental_option(\"debuggerAddress\", \"127.0.0.1:9222\")\n",
    "\n",
    "chrome_ver = chromedriver_autoinstaller.get_chrome_version().split('.')[0]\n",
    "try:\n",
    "    driver = webdriver.Chrome(f'./{chrome_ver}/chromedriver.exe', options=option)\n",
    "except:\n",
    "    chromedriver_autoinstaller.install(True)\n",
    "    driver = webdriver.Chrome(f'./{chrome_ver}/chromedriver.exe', options=option)\n",
    "driver.implicitly_wait(10)\n",
    "\n",
    "import pandas as pd  # 판다스 : 데이터분석 라이브러리\n",
    "\n",
    "from selenium import webdriver   # 웹 브라우저 자동화\n",
    "\n",
    "import time    # 서버와 통신할 때 중간중간 시간 지연. 보통은 1초를 사용하지만, 여기에서는 2초나 3초도 사용합니다.\n",
    "\n",
    "from tqdm.notebook import tqdm    # for문을 실행할 때 진행상황을 %게이지로알려줍니다.\n",
    "\n",
    "from selenium.webdriver.common.by import By"
   ]
  },
  {
   "cell_type": "code",
   "execution_count": 2,
   "id": "2d6296ff",
   "metadata": {},
   "outputs": [],
   "source": [
    "# 사이트 주소는 Melon(음원사이트)\n",
    "driver.get('http://www.melon.com')\n",
    "time.sleep(2)  # 2초간 정지"
   ]
  },
  {
   "cell_type": "code",
   "execution_count": 3,
   "id": "bc22b281",
   "metadata": {},
   "outputs": [],
   "source": [
    "# 멜론차트 클릭\n",
    "driver.find_element(By.CSS_SELECTOR, \".menu_bg.menu03\").click()\n",
    "time.sleep(2)  # 2초 정지\n",
    "\n",
    "\n",
    "# 크롤링 코드\n",
    "dict = {}    # 전체 크롤링 데이터를 저장할 딕셔너리 생성\n",
    "\n",
    "number = 100  # 수집할 글 갯수 정하기"
   ]
  },
  {
   "cell_type": "code",
   "execution_count": 19,
   "id": "fd6d6f59",
   "metadata": {},
   "outputs": [],
   "source": [
    "# 일간차트 클릭\n",
    "driver.find_element(By.CSS_SELECTOR, \".cntt\").click()"
   ]
  },
  {
   "cell_type": "code",
   "execution_count": null,
   "id": "9afaf0a8",
   "metadata": {},
   "outputs": [],
   "source": [
    "# 그외인기장르\n",
    "driver.find_element(By.CSS_SELECTOR, \".menu_chart.m3\").click()"
   ]
  },
  {
   "cell_type": "code",
   "execution_count": 13,
   "id": "b6b7e67a",
   "metadata": {},
   "outputs": [],
   "source": [
    "driver.find_element(By.CSS_SELECTOR, \".menu_bg.menu03\").click()"
   ]
  },
  {
   "cell_type": "code",
   "execution_count": 13,
   "id": "a003b704",
   "metadata": {},
   "outputs": [
    {
     "data": {
      "text/html": [
       "<div>\n",
       "<style scoped>\n",
       "    .dataframe tbody tr th:only-of-type {\n",
       "        vertical-align: middle;\n",
       "    }\n",
       "\n",
       "    .dataframe tbody tr th {\n",
       "        vertical-align: top;\n",
       "    }\n",
       "\n",
       "    .dataframe thead th {\n",
       "        text-align: right;\n",
       "    }\n",
       "</style>\n",
       "<table border=\"1\" class=\"dataframe\">\n",
       "  <thead>\n",
       "    <tr style=\"text-align: right;\">\n",
       "      <th></th>\n",
       "      <th>title</th>\n",
       "      <th>artist</th>\n",
       "      <th>lyrics</th>\n",
       "    </tr>\n",
       "  </thead>\n",
       "  <tbody>\n",
       "    <tr>\n",
       "      <th>0</th>\n",
       "      <td>I AM</td>\n",
       "      <td>IVE (아이브)</td>\n",
       "      <td>다른 문을 열어 따라 갈 필요는 없어\\n넌 너의 길로 난 나의 길로 음\\n하루하루마...</td>\n",
       "    </tr>\n",
       "  </tbody>\n",
       "</table>\n",
       "</div>"
      ],
      "text/plain": [
       "  title     artist                                             lyrics\n",
       "0  I AM  IVE (아이브)  다른 문을 열어 따라 갈 필요는 없어\\n넌 너의 길로 난 나의 길로 음\\n하루하루마..."
      ]
     },
     "execution_count": 13,
     "metadata": {},
     "output_type": "execute_result"
    }
   ],
   "source": [
    "import pandas as pd\n",
    "\n",
    "# 열을 정의\n",
    "col1 = ['I AM']\n",
    "col2 = ['IVE (아이브)']\n",
    "col3 = ['다른 문을 열어 따라 갈 필요는 없어\\n넌 너의 길로 난 나의 길로 음\\n하루하루마다 색이 달라진 느낌\\n밝게 빛이 나는 길을 찾아\\nI’m on my way 넌 그냥 믿으면 돼\\nI’m on my way 보이는 그대로야\\n너는 누군가의 Dreams come true\\n제일 좋은 어느 날의 데자뷰\\n머물고픈 어딘가의 낯선 뷰\\nI’ll be far away\\nThat’s my\\nLife is 아름다운 갤럭시\\nBe a writer, 장르로는 판타지\\n내일 내게 열리는 건 big big 스테이지\\nSo that is who I am\\nLook at me\\nLook at me\\nLook at me\\nnow\\n어제랑 또 다른 짜릿한 나\\n두려운 모든 게 설레이게\\nI’m in sky high, OMG\\n사소한 건 다 아득해져 와\\nLook at me now\\nLook at me now\\nI’m on fire\\nI’m on my way 넌 그냥 믿으면 돼\\nI’m on my way 보이는 그대로야\\n너는 누군가의 Dreams come true\\n제일 좋은 어느 날의 데자뷰\\n머물고픈 어딘가의 낯선 뷰\\nI’ll be far away\\nThat’s my\\nLife is 아름다운 갤럭시\\nBe a writer, 장르로는 판타지\\n내일 내게 열리는 건 big big 스테이지\\nSo that is who I am\\n어느 깊은 밤 길을 잃어도\\n차라리 날아올라 그럼 네가\\n지나가는 대로 길이거든\\n1, 2, 3\\n1, 2, 3\\n1, 2, 3\\nFly up\\nI hope you’d be someone’s\\ndreams come true\\n제일 좋은 어느 날의 데자뷰\\n머물고픈 어딘가의 낯선 뷰\\nI’ll be far away\\nThat’s my\\nLife is 아름다운 갤럭시\\nBe a writer, 장르로는 판타지\\n내일 내게 열리는 건 big big 스테이지\\nSo that is who I am']\n",
    "\n",
    "# DataFrame을 생성\n",
    "df = pd.DataFrame({'title': col1, 'artist': col2, 'lyrics': col3})\n",
    "\n",
    "# DataFrame 출력\n",
    "df"
   ]
  },
  {
   "cell_type": "code",
   "execution_count": 5,
   "id": "e31a27ab",
   "metadata": {},
   "outputs": [],
   "source": [
    "def one_page_crawl():\n",
    "    for i in range(0,50):\n",
    "        try:\n",
    "            # 곡정보 더보기 버튼 클릭1\n",
    "            more_info_list = driver.find_elements(By.CSS_SELECTOR, \".btn.button_icons.type03.song_info\")\n",
    "            more_info_list[i].click()\n",
    "            time.sleep(1)\n",
    "            # 제목 가져오기\n",
    "            song = driver.find_element(By.CSS_SELECTOR, \".song_name\")\n",
    "            # 가수 가져오기\n",
    "            artist = driver.find_element(By.CSS_SELECTOR, \".artist\")\n",
    "            # 펼치기 버튼 클릭\n",
    "            time.sleep(1)\n",
    "            driver.find_element(By.CSS_SELECTOR, \".button_more.arrow_d\").click()\n",
    "            #print(1)\n",
    "            # 가사 출력이 잘 되는지 확인\n",
    "            lyric = driver.find_element(By.CSS_SELECTOR, \".lyric.on\")\n",
    "            print(\"+\", end=\"\")\n",
    "            #print(2)\n",
    "            # 데이터 df에 추가\n",
    "            new_row = {'title': song.text, 'artist': artist.text, 'lyrics': lyric.text}\n",
    "            #print(3)\n",
    "            df = pd.concat([df, pd.DataFrame([new_row])], ignore_index=True)\n",
    "            print('>', end=\"\")\n",
    "            # 곡 정보 목록으로 돌아오기\n",
    "            driver.back()\n",
    "        except:\n",
    "            driver.back()\n",
    "            continue"
   ]
  },
  {
   "cell_type": "code",
   "execution_count": 11,
   "id": "034f9613",
   "metadata": {},
   "outputs": [
    {
     "name": "stdout",
     "output_type": "stream",
     "text": [
      "+done!\n"
     ]
    }
   ],
   "source": [
    "i = 1\n",
    "\n",
    "more_info_list = driver.find_elements(By.CSS_SELECTOR, \".btn.button_icons.type03.song_info\")\n",
    "more_info_list[i].click()\n",
    "time.sleep(1)\n",
    "# 제목 가져오기\n",
    "song = driver.find_element(By.CSS_SELECTOR, \".song_name\")\n",
    "# 가수 가져오기\n",
    "artist = driver.find_element(By.CSS_SELECTOR, \".artist\")\n",
    "# 펼치기 버튼 클릭\n",
    "time.sleep(1)\n",
    "driver.find_element(By.CSS_SELECTOR, \".button_more.arrow_d\").click()\n",
    "#print(1)\n",
    "# 가사 출력이 잘 되는지 확인\n",
    "lyric = driver.find_element(By.CSS_SELECTOR, \".lyric.on\")\n",
    "print(\"+\", end=\"\")\n",
    "# 데이터 df에 추가\n",
    "new_row = {'title': song.text, 'artist': artist.text, 'lyrics': lyric.text}\n",
    "#print(3)\n",
    "df = pd.concat([df, pd.DataFrame([new_row])], ignore_index=True)\n",
    "print(\"done!\")\n",
    "driver.back()"
   ]
  },
  {
   "cell_type": "code",
   "execution_count": 11,
   "id": "af2b4020",
   "metadata": {},
   "outputs": [],
   "source": [
    "df = pd.read_csv(\"lyrics_indi(1-20000).csv\")"
   ]
  },
  {
   "cell_type": "code",
   "execution_count": 14,
   "id": "ebd9fbac",
   "metadata": {},
   "outputs": [
    {
     "data": {
      "text/html": [
       "<div>\n",
       "<style scoped>\n",
       "    .dataframe tbody tr th:only-of-type {\n",
       "        vertical-align: middle;\n",
       "    }\n",
       "\n",
       "    .dataframe tbody tr th {\n",
       "        vertical-align: top;\n",
       "    }\n",
       "\n",
       "    .dataframe thead th {\n",
       "        text-align: right;\n",
       "    }\n",
       "</style>\n",
       "<table border=\"1\" class=\"dataframe\">\n",
       "  <thead>\n",
       "    <tr style=\"text-align: right;\">\n",
       "      <th></th>\n",
       "      <th>title</th>\n",
       "      <th>artist</th>\n",
       "      <th>lyrics</th>\n",
       "    </tr>\n",
       "  </thead>\n",
       "  <tbody>\n",
       "    <tr>\n",
       "      <th>0</th>\n",
       "      <td>I AM</td>\n",
       "      <td>IVE (아이브)</td>\n",
       "      <td>다른 문을 열어 따라 갈 필요는 없어\\n넌 너의 길로 난 나의 길로 음\\n하루하루마...</td>\n",
       "    </tr>\n",
       "  </tbody>\n",
       "</table>\n",
       "</div>"
      ],
      "text/plain": [
       "  title     artist                                             lyrics\n",
       "0  I AM  IVE (아이브)  다른 문을 열어 따라 갈 필요는 없어\\n넌 너의 길로 난 나의 길로 음\\n하루하루마..."
      ]
     },
     "execution_count": 14,
     "metadata": {},
     "output_type": "execute_result"
    }
   ],
   "source": [
    "df"
   ]
  },
  {
   "cell_type": "code",
   "execution_count": 9,
   "id": "20286ade",
   "metadata": {},
   "outputs": [
    {
     "name": "stdout",
     "output_type": "stream",
     "text": [
      "1th song ongoing..\n",
      "++++++++++++++++++++++++++++++++++++++++++++++++++"
     ]
    }
   ],
   "source": [
    "index = 1\n",
    "num_page = 2\n",
    "for e in range(1, num_page):\n",
    "    print(f'{index}th song ongoing..')\n",
    "    one_page_crawl()\n",
    "    index += 50\n",
    "    driver.find_element(By.XPATH, f'//a[@href=\"javascript:pageObj.sendPage(\\'{index}\\');\"]').click()"
   ]
  },
  {
   "cell_type": "code",
   "execution_count": 19,
   "id": "52d459d5",
   "metadata": {},
   "outputs": [
    {
     "name": "stdout",
     "output_type": "stream",
     "text": [
      "1th page ongoing..\n",
      "1O2O3O4O5O6O7O8O9O10O11O12O13O14O15O16O17O18O19OX21O22O23O24O25O26O27O28O29O30OX32O33O34O35O36O37O38O39O40O41O42O43O44O45O46O47O48O49O50O\n",
      "2th page ongoing..\n",
      "1O2O3O4O5O6O7OX9O10O11O12O13O14O15O16O17O18O19O20O21O22O23O24O25O26O27O28O29O30O31O32O33O34O35O36O37O38O39O40O41O42O43O44O45O46O47O48O49O50O\n",
      "3th page ongoing..\n",
      "1OX3O4O5O6OX8O9O10O11O12O13O14O15O16O17O18O19O20O21O22O23O24O25O26O27O28O29O30O31O32O33OX35O36O37O38OX40O41OX43O44O45OX47O48O49O50O\n",
      "4th page ongoing..\n",
      "1O2O3O4O5O6OXX9O10O11O12O13O14O15O16O17O18O19O20O21O22O23O24O25O26OX28O29O30O31O32O33O34O35O36O37O38O39O40O41O42O43O44O45O46O47O48O49O50O\n",
      "5th page ongoing..\n",
      "1O2O3O4OX6O7O8O9O10O11O12O13O14OX16O17O18O19O20O21O22O23O24O25O26O27O28OX30O31O32O33O34O35O36O37O38O39O40O41O42O43O44O45O46O47O48O49O50O\n",
      "6th page ongoing..\n",
      "1O2O3O4O5O6O7O8O9O10O11O12O13O14O15OX17OX19O20O21O22O23O24O25O26O27O28O29O30O31O32OX34O35O36O37O38O39O40O41O42O43O44O45O46O47O48O49O50O\n",
      "7th page ongoing..\n",
      "1O2O3O4O5O6O7O8O9O10O11O12O13O14O15O16O17O18O19O20O21O22O23O24O25O26O27O28O29O30O31O32O33O34O35O36O37O38O39O40O41O42O43O44O45O46O47O48O49O50O\n",
      "8th page ongoing..\n",
      "1O2O3O4O5OX7O8O9O10OX12O13O14O15O16O17O18O19O20O21O22O23O24O25O26O27O28O29O30O31O32O33O34O35OX37O38O39O40O41O42O43O44O45O46O47O48O49O50O\n",
      "9th page ongoing..\n",
      "1O2O3O4O5O6O7O8O9O10O11O12OX14O15O16O17O18O19O20O21O22O23O24O25O26O27O28O29O30O31O32O33O34O35O36O37O38O39O40O41O42O43O44O45O46O47O48O49O50O\n",
      "10th page ongoing..\n",
      "1O2O3O4O5O6O7O8O9O10O11O12O13O14O15O16O17O18O19O20O21O22O23O24O25O26O27O28O29O30OXXX34O35O36O37O38O39O40O41O42O43O44O45O46O47O48O49O50O\n",
      "11th page ongoing..\n",
      "1O2O3O4O5OXX8O9O10O11O12O13O14O15O16O17O18O19O20O21O22O23O24O25O26O27O28O29O30O31O32O33O34O35O36O37O38O39O40O41O42O43O44O45O46O47O48O49O50O\n",
      "12th page ongoing..\n",
      "1O2O3O4O5O6O7O8O9O10O11O12O13O14O15O16O17O18O19O20O21O22O23O24O25O26O27O28O29O30O31O32O33O34O35O36O37O38O39O40O41O42O43O44O45O46OX48O49O50O\n",
      "13th page ongoing..\n",
      "1O2O3O4O5O6O7O8O9O10OX12O13O14O15O16O17O18O19O20O21O22O23O24O25O26O27O28O29O30O31O32O33OX35O36O37O38O39O40O41O42O43O44O45O46OX48O49O50O\n",
      "14th page ongoing..\n",
      "1O2O3O4O5OXX8OX10OXX13O14O15O16O17O18O19O20O21O22O23O24O25O26O27O28OX30O31O32O33O34O35O36O37OX39OX41O42O43O44O45O46O47O48O49O50O\n",
      "15th page ongoing..\n",
      "1O2O3O4O5O6O7O8O9O10O11O12O13O14O15O16O17O18O19O20O21O22O23O24O25O26O27O28O29O30O31O32O33O34O35O36O37O38O39O40O41OXX44O45O46O47O48O49O50O\n",
      "16th page ongoing..\n",
      "1O2O3O4O5O6O7O8O9O10O11O12O13O14O15O16O17O18O19O20O21O22O23O24O25O26O27O28O29O30O31O32O33O34O35O36O37O38O39O40O41O42O43O44O45O46O47O48O49O50O\n",
      "17th page ongoing..\n",
      "1O2O3O4O5O6O7O8O9O10O11O12O13O14O15O16O17O18O19O20O21O22O23O24O25O26O27O28O29O30O31O32O33O34O35O36O37O38O39O40OX42O43O44O45O46O47O48O49O50O\n",
      "18th page ongoing..\n",
      "1O2O3O4O5O6O7O8O9O10O11O12O13O14O15O16O17O18O19O20O21O22O23O24O25O26O27O28O29O30O31O32O33OX35O36O37O38O39O40O41O42O43O44O45O46O47O48O49O50O\n",
      "19th page ongoing..\n",
      "1O2O3O4O5O6O7O8O9O10O11OX13O14O15O16O17O18O19O20OX22O23O24O25O26O27O28O29OX31O32O33O34O35O36O37O38O39O40OX42O43OX45OX47O48O49O50O\n",
      "20th page ongoing..\n",
      "1O2O3O4O5O6O7O8O9O10O11O12O13O14O15O16O17O18O19O20O21O22O23O24O25O26O27O28O29O30O31O32O33O34O35O36O37O38O39O40O41O42O43O44O45O46O47O48O49O50O\n",
      "21th page ongoing..\n",
      "1O2O3O4O5O6O7O8O9O10O11O12O13O14O15O16O17O18O19O20O21O22O23O24O25O26O27O28O29O30O31O32O33OX35O36O37O38O39O40O41O42O43O44O45O46O47O48O49O50O\n",
      "22th page ongoing..\n",
      "1O2O3O4O5O6O7O8O9O10O11O12O13O14O15O16O17O18O19O20O21O22O23O24O25O26O27O28O29O30O31O32O33O34O35O36O37O38O39O40O41O42O43O44OX46O47O48O49O50O\n",
      "23th page ongoing..\n",
      "1O2O3O4O5O6O7O8O9O10O11OX13O14O15O16O17O18O19O20O21O22O23O24O25O26O27O28O29O30O31O32O33O34O35O36O37O38O39O40O41O42O43O44O45O46O47O48O49O50O\n",
      "24th page ongoing..\n",
      "1O2O3O4O5O6O7O8OX10O11O12O13O14O15O16O17O18O19O20O21O22O23O24O25O26O27O28O29O30O31O32O33O34O35O36O37O38O39O40O41O42O43O44O45O46O47O48O49O50O\n",
      "25th page ongoing..\n",
      "1O2O3O4O5OX7O8O9O10O11O12O13OX15OX17O18O19O20OX22O23O24O25O26O27O28O29O30O31O32O33O34O35O36O37O38O39O40O41O42O43O44O45O46O47O48O49O50O\n",
      "26th page ongoing..\n",
      "1O2O3O4O5O6O7O8O9O10O11O12O13O14O15O16O17OX19O20O21O22O23O24O25O26O27O28O29O30O31O32O33O34O35O36O37O38O39O40O41O42O43O44O45O46O47OX49O50O\n",
      "27th page ongoing..\n",
      "1O2O3O4O5OX7O8O9O10O11O12OX14O15O16O17O18O19O20O21O22O23O24O25O26O27O28O29O30O31O32O33O34O35O36O37O38O39O40O41O42O43O44O45O46O47O48O49O50O\n",
      "28th page ongoing..\n",
      "1O2O3O4O5O6O7O8O9O10O11O12O13O14O15O16O17O18O19O20O21O22O23O24O25O26O27O28O29O30O31O32O33O34O35O36O37O38O39O40O41O42O43O44O45O46O47O48O49O50O\n",
      "29th page ongoing..\n",
      "1O2O3O4O5O6O7O8O9O10O11O12O13O14O15OX17O18O19O20O21O22O23O24O25O26O27O28O29O30O31O32O33O34OX36O37O38O39O40O41O42O43O44O45O46OX48O49O50O\n",
      "30th page ongoing..\n",
      "1O2O3O4O5O6O7O8O9O10O11O12O13O14O15O16O17O18O19O20O21OX23O24O25O26O27O28O29OX31OX33O34O35O36O37O38O39O40O41O42O43O44OXX47O48O49O50O\n",
      "31th page ongoing..\n",
      "1O2O3O4O5O6O7O8O9O10O11O12O13O14O15O16O17OX19O20O21O22O23O24O25O26O27O28O29O30O31O32O33O34O35O36O37O38O39O40O41O42O43O44O45O46O47O48O49O50O\n",
      "32th page ongoing..\n",
      "1O2O3O4O5OX7O8O9O10O11O12O13O14O15O16O17O18O19O20O21O22O23O24O25O26O27O28O29O30O31O32O33O34O35O36O37O38O39O40O41O42O43O44O45O46O47O48O49OX\n",
      "33th page ongoing..\n",
      "1O2O3O4O5O6O7O8O9O10O11O12O13O14O15O16O17O18O19O20O21O22O23O24O25O26O27O28O29O30O31O32O33O34O35O36O37O38O39O40O41O42O43O44O45O46O47O48O49O50O\n",
      "34th page ongoing..\n",
      "1O2O3O4O5O6O7O8O9O10O11O12O13O14O15O16O17O18O19O20O21O22O23O24O25O26O27O28O29O30O31O32O33O34O35O36O37O38O39O40O41O42O43O44O45O46O47O48O49O50O\n",
      "35th page ongoing..\n",
      "1O2O3O4O5O6O7O8O9O10O11O12O13O14O15O16O17O18O19O20O21O22O23O24O25O26O27O28O29O30O31O32OX34O35O36O37O38O39O40O41O42O43O44O45O46O47O48O49O50O\n",
      "36th page ongoing..\n",
      "1O2O3O4O5O6O7O8O9O10O11O12O13O14O15O16O17O18O19O20O21O22O23O24O25O26O27O28O29O30O31O32O33O34O35OX37O38O39O40O41O42O43O44O45OX47O48O49O50O\n",
      "37th page ongoing..\n",
      "1O2O3OX5O6OX8OX10O11O12O13O14OXX17O18O19O20O21O22O23O24O25O26O27O28O29O30O31O32O33O34O35O36O37O38O39O40O41O42O43O44O45O46O47O48O49O50O\n",
      "38th page ongoing..\n",
      "1O2O3O4O5O6O7O8O9O10O11O12O13O14O15O16O17O18O19O20O21OX23O24O25O26O27O28O29O30O31O32O33O34O35O36O37O38O39O40O41O42O43O44O45O46O47O48O49O50O\n",
      "39th page ongoing..\n",
      "1O2O3O4O5OX7O8O9O10O11O12O13O14O15O16O17O18O19O20O21O22O23O24O25O26O27O28O29O30O31O32O33O34O35O36O37O38O39O40O41O42O43O44O45O46O47O48O49O50O\n",
      "40th page ongoing..\n",
      "1O2O3O4O5O6O7O8O9O10O11O12O13O14O15O16O17O18O19O20O21O22O23O24O25O26O27O28O29O30O31O32O33O34OX36O37O38O39O40O41O42O43O44O45O46O47O48O49O50O\n",
      "41th page ongoing..\n",
      "1O2O3O4O5O6O7O8O9O10O11O12O13O14O15O16O17O18O19O20O21O22O23O24O25O26O27O28O29O30O31O32O33O34O35O36O37O38O39O40O41O42O43O44O45O46O47O48O49O50O\n",
      "42th page ongoing..\n",
      "1O2O3O4O5O6O7O8O9O10O11O12O13O14O15OX17O18O19O20O21O22O23O24O25O26O27O28O29O30O31O32O33O34O35O36O37O38O39O40OX42O43O44O45OX47O48O49O50O\n",
      "43th page ongoing..\n",
      "1O2O3O4OX6O7O8O9O10O11O12O13O14O15O16O17OX19O20O21O22O23O24O25O26O27O28O29O30O31O32O33O34O35O36O37O38O39O40O41O42O43O44O45O46O47O48O49O50O\n",
      "44th page ongoing..\n",
      "1O2O3O4O5OX7O8O9O10O11O12O13O14O15O16O17OX19O20O21O22O23O24O25O26O27O28O29O30O31O32O33O34O35O36O37O38O39O40O41O42O43O44O45OX47O48O49O50O\n",
      "45th page ongoing..\n",
      "1O2O3O4O5O6O7O8O9O10O11O12O13O14O15O16O17O18O19O20O21O22O23O24O25O26O27O28O29O30O31O32O33O34O35O36O37O38O39O40O41O42O43O44O45O46O47O48O49O50O\n",
      "46th page ongoing..\n",
      "1O2O3O4O5O6O7O8O9O10O11O12O13O14O15O16O17O18O19O20OXX23O24O25O26O27O28O29O30O31O32O33O34O35O36O37O38O39O40O41O42O43O44O45O46O47O48O49O50O\n",
      "47th page ongoing..\n",
      "1O2O3O4O5O6O7O8O9O10O11O12O13O14O15O16O17O18O19O20O21O22O23O24O25O26O27O28O29OX31O32O33O34O35O36O37O38O39O40O41O42O43O44O45O46O47O48O49O50O\n",
      "48th page ongoing..\n",
      "1O2O3O4O5O6O7O8O9O10O11O12O13O14O15O16O17O18O19O20O21O22O23O24O25O26O27O28O29O30O31O32O33O34O35O36O37O38O39O40O41O42O43O44O45O46O47O48O49O50O\n",
      "49th page ongoing..\n",
      "1O2O3O4O5O6O7O8O9O10O11OX13O14O15O16O17O18O19O20O21O22O23O24O25O26O27O28O29O30O31O32O33O34O35O36O37O38O39O40O41O42O43OX45O46O47O48O49O50O\n",
      "50th page ongoing..\n",
      "1O2O3O4O5O6O7O8O9O10O11O12O13O14O15O16O17O18OX20O21O22O23O24O25O26O27O28O29O30O31O32O33O34O35O36O37O38O39O40O41O42O43O44O45O46O47O48O49O50O\n",
      "51th page ongoing..\n",
      "1O2O3O4O5O6O7O8O9O10O11O12O13O14O15O16O17O18O19O20O21O22O23O24O25O26O27O28O29O30O31O32O33O34O35O36O37O38O39O40O41O42O43O44O45O46O47O48O49O50O\n",
      "52th page ongoing..\n",
      "1O2O3O4O5O6O7O8O9O10O11O12O13O14O15O16O17O18O19O20O21O22O23O24O25O26O27O28O29O30O31O32O33O34O35O36O37O38O39O40O41O42O43O44O45O46O47O48O49O50O\n",
      "53th page ongoing..\n",
      "1O2O3O4O5O6O7O8O9O10O11O12O13O14O15O16O17O18O19O20O21O22O23O24O25O26O27O28O29O30O31O32O33O34O35O36O37O38O39O40O41O42O43O44O45O46O47O48O49O50O\n",
      "54th page ongoing..\n",
      "X2O3O4O5O6O7O8O9O10O11O12O13O14O15O16O17O18O19O20O21O22O23O24O25O26O27O28O29O30O31O32O33O34O35O36O37O38O39O40O41O42O43O44O45O46O47O48O49O50O\n",
      "55th page ongoing..\n",
      "1O2O3O4O5OXX8O9O10O11O12O13O14O15O16O17O18O19O20O21O22O23O24O25O26O27O28O29O30O31O32O33O34O35OX37O38O39O40O41O42O43O44O45O46OX48O49O50O\n",
      "56th page ongoing..\n",
      "1O2O3O4O5O6O7O8O9O10O11O12O13O14O15O16O17O18O19O20O21O22O23O24O25O26O27O28O29O30O31O32O33O34O35O36O37O38O39O40O41O42O43O44O45O46O47O48O49O50O\n",
      "57th page ongoing..\n",
      "1O2O3O4O5O6O7O8O9O10O11O12O13O14O15O16O17O18O19O20O21O22O23O24O25O26O27O28O29O30OX32O33O34O35O36O37O38O39O40O41O42O43O44O45OX47O48O49O50O\n",
      "58th page ongoing..\n",
      "1O2O3O4O5O6O7O8O9O10O11O12O13O14O15O16O17O18O19O20O21O22O23O24O25O26O27O28O29O30O31O32O33O34O35O36O37O38O39O40O41O42O43O44O45O46O47O48O49O50O\n",
      "59th page ongoing..\n",
      "1O2O3O4O5O6O7O8O9O10O11O12O13O14O15O16O17O18O19O20O21O22O23O24O25O26O27O28O29O30O31O32O33O34O35O36O37O38O39O40O41O42O43O44O45O46O47O48O49O50O\n",
      "60th page ongoing..\n",
      "1O2O3O4O5O6O7O8O9O10O11O12O13OX15O16O17O18O19O20O21O22O23O24O25O26O27O28O29O30O31O32O33O34O35O36O37O38O39O40O41O42O43O44O45O46O47O48O49O50O\n",
      "61th page ongoing..\n",
      "1O2O3O4O5OX7O8O9O10O11O12O13O14O15O16O17O18O19O20O21O22O23O24O25O26OX28O29O30O31O32O33O34O35O36O37O38O39O40O41O42O43O44O45O46O47OX49O50O\n",
      "62th page ongoing..\n",
      "1O2OX4O5O6OXX9OX11O12O13O14O15O16O17O18O19O20O21O22O23O24O25O26O27O28O29O30O31O32O33O34O35O36O37O38O39O40O41O42O43O44O45O46O47O48O49O50O\n",
      "63th page ongoing..\n",
      "1O2O3O4O5O6O7O8O9O10O11O12O13O14O15O16O17O18O19O20O21O22O23O24O25O26O27O28O29O30O31O32O33O34O35O36O37O38O39O40O41O42O43O44O45O46O47O48O49O50O\n",
      "64th page ongoing..\n",
      "1O2O3O4O5O6O7O8O9O10O11O12O13O14O15O16OX18O19O20O21O22O23O24O25O26O27O28O29O30O31O32O33O34O35O36O37O38O39O40O41O42O43O44O45O46O47O48O49O50O\n",
      "65th page ongoing..\n",
      "1O2O3O4O5O6O7O8O9O10O11O12O13O14O15O16O17O18O19O20O21O22O23O24O25O26O27O28O29O30O31O32O33O34O35O36O37O38O39O40O41O42O43O44O45O46O47O48O49O50O\n",
      "66th page ongoing..\n",
      "1O2O3O4O5O6O7O8O9O10O11O12O13O14O15O16O17O18O19O20O21O22O23O24O25O26O27O28O29O30O31O32O33O34O35O36O37O38O39O40O41O42O43O44O45O46O47O48O49O50O\n",
      "67th page ongoing..\n",
      "1O2O3O4O5O6O7O8O9O10O11O12O13O14O15O16O17O18O19O20O21O22O23OX25O26O27O28O29O30O31OXX34O35O36O37O38O39O40O41O42O43O44O45O46O47O48O49O50O\n",
      "68th page ongoing..\n",
      "1O2O3O4O5O6O7O8O9O10O11O12O13O14O15O16O17OXX20O21O22O23O24O25O26OX28O29OX31OX33O34O35O36OX38O39O40O41OX43OX45O46O47O48O49O50O\n",
      "69th page ongoing..\n",
      "1O2O3O4O5O6O7O8O9O10O11O12O13O14O15O16O17O18O19O20O21O22O23O24O25O26O27O28O29O30O31O32O33O34O35O36O37O38O39O40O41O42O43O44O45O46O47O48O49O50O\n",
      "70th page ongoing..\n",
      "1O2OX4O5O6O7O8O9O10O11O12O13O14O15O16O17O18O19O20O21O22O23O24O25O26O27O28O29O30O31O32O33O34O35O36O37O38O39O40O41O42O43O44O45O46O47O48O49O50O\n",
      "71th page ongoing..\n",
      "1O2O3O4O5O6O7O8O9O10O11O12O13O14O15O16O17O18O19O20O21O22O23OX25O26O27O28O29O30O31O32O33O34O35O36O37O38O39O40O41O42O43O44O45O46O47O48O49O50O\n",
      "72th page ongoing..\n",
      "1O2O3O4O5O6O7O8O9O10O11O12O13O14O15O16O17O18O19O20O21O22O23O24O25O26O27O28O29O30O31O32O33O34O35O36O37O38O39O40O41O42O43O44O45O46O47O48O49O50O\n",
      "73th page ongoing..\n",
      "1O2O3O4O5O6O7OX9O10O11O12O13O14O15OX17O18O19O20O21O22O23O24O25O26O27O28O29O30O31O32O33O34O35O36O37O38O39O40O41O42O43O44O45O46O47O48O49O50O\n",
      "74th page ongoing..\n",
      "1O2O3O4O5O6O7O8O9O10O11O12O13O14O15O16O17O18O19O20O21O22O23O24O25O26O27O28O29O30O31O32O33O34O35O36O37O38O39O40O41O42O43O44O45O46O47O48O49O50O\n",
      "75th page ongoing..\n",
      "1O2O3O4O5OX7O8O9O10O11O12O13O14O15O16O17O18O19O20O21O22O23O24O25O26O27O28O29O30O31O32O33O34O35O36O37OX39OX41OX43O44O45O46O47O48O49O50O\n",
      "76th page ongoing..\n",
      "1OX3O4O5O6O7O8O9O10O11O12O"
     ]
    },
    {
     "ename": "ProtocolError",
     "evalue": "('Connection aborted.', ConnectionResetError(10054, '현재 연결은 원격 호스트에 의해 강제로 끊겼습니다', None, 10054, None))",
     "output_type": "error",
     "traceback": [
      "\u001b[1;31m---------------------------------------------------------------------------\u001b[0m",
      "\u001b[1;31mConnectionResetError\u001b[0m                      Traceback (most recent call last)",
      "File \u001b[1;32mc:\\Users\\Chiwoong\\AppData\\Local\\Programs\\Python\\Python310\\lib\\site-packages\\urllib3\\connectionpool.py:703\u001b[0m, in \u001b[0;36mHTTPConnectionPool.urlopen\u001b[1;34m(self, method, url, body, headers, retries, redirect, assert_same_host, timeout, pool_timeout, release_conn, chunked, body_pos, **response_kw)\u001b[0m\n\u001b[0;32m    702\u001b[0m \u001b[39m# Make the request on the httplib connection object.\u001b[39;00m\n\u001b[1;32m--> 703\u001b[0m httplib_response \u001b[39m=\u001b[39m \u001b[39mself\u001b[39;49m\u001b[39m.\u001b[39;49m_make_request(\n\u001b[0;32m    704\u001b[0m     conn,\n\u001b[0;32m    705\u001b[0m     method,\n\u001b[0;32m    706\u001b[0m     url,\n\u001b[0;32m    707\u001b[0m     timeout\u001b[39m=\u001b[39;49mtimeout_obj,\n\u001b[0;32m    708\u001b[0m     body\u001b[39m=\u001b[39;49mbody,\n\u001b[0;32m    709\u001b[0m     headers\u001b[39m=\u001b[39;49mheaders,\n\u001b[0;32m    710\u001b[0m     chunked\u001b[39m=\u001b[39;49mchunked,\n\u001b[0;32m    711\u001b[0m )\n\u001b[0;32m    713\u001b[0m \u001b[39m# If we're going to release the connection in ``finally:``, then\u001b[39;00m\n\u001b[0;32m    714\u001b[0m \u001b[39m# the response doesn't need to know about the connection. Otherwise\u001b[39;00m\n\u001b[0;32m    715\u001b[0m \u001b[39m# it will also try to release it and we'll have a double-release\u001b[39;00m\n\u001b[0;32m    716\u001b[0m \u001b[39m# mess.\u001b[39;00m\n",
      "File \u001b[1;32mc:\\Users\\Chiwoong\\AppData\\Local\\Programs\\Python\\Python310\\lib\\site-packages\\urllib3\\connectionpool.py:449\u001b[0m, in \u001b[0;36mHTTPConnectionPool._make_request\u001b[1;34m(self, conn, method, url, timeout, chunked, **httplib_request_kw)\u001b[0m\n\u001b[0;32m    445\u001b[0m         \u001b[39mexcept\u001b[39;00m \u001b[39mBaseException\u001b[39;00m \u001b[39mas\u001b[39;00m e:\n\u001b[0;32m    446\u001b[0m             \u001b[39m# Remove the TypeError from the exception chain in\u001b[39;00m\n\u001b[0;32m    447\u001b[0m             \u001b[39m# Python 3 (including for exceptions like SystemExit).\u001b[39;00m\n\u001b[0;32m    448\u001b[0m             \u001b[39m# Otherwise it looks like a bug in the code.\u001b[39;00m\n\u001b[1;32m--> 449\u001b[0m             six\u001b[39m.\u001b[39;49mraise_from(e, \u001b[39mNone\u001b[39;49;00m)\n\u001b[0;32m    450\u001b[0m \u001b[39mexcept\u001b[39;00m (SocketTimeout, BaseSSLError, SocketError) \u001b[39mas\u001b[39;00m e:\n",
      "File \u001b[1;32m<string>:3\u001b[0m, in \u001b[0;36mraise_from\u001b[1;34m(value, from_value)\u001b[0m\n",
      "File \u001b[1;32mc:\\Users\\Chiwoong\\AppData\\Local\\Programs\\Python\\Python310\\lib\\site-packages\\urllib3\\connectionpool.py:444\u001b[0m, in \u001b[0;36mHTTPConnectionPool._make_request\u001b[1;34m(self, conn, method, url, timeout, chunked, **httplib_request_kw)\u001b[0m\n\u001b[0;32m    443\u001b[0m \u001b[39mtry\u001b[39;00m:\n\u001b[1;32m--> 444\u001b[0m     httplib_response \u001b[39m=\u001b[39m conn\u001b[39m.\u001b[39;49mgetresponse()\n\u001b[0;32m    445\u001b[0m \u001b[39mexcept\u001b[39;00m \u001b[39mBaseException\u001b[39;00m \u001b[39mas\u001b[39;00m e:\n\u001b[0;32m    446\u001b[0m     \u001b[39m# Remove the TypeError from the exception chain in\u001b[39;00m\n\u001b[0;32m    447\u001b[0m     \u001b[39m# Python 3 (including for exceptions like SystemExit).\u001b[39;00m\n\u001b[0;32m    448\u001b[0m     \u001b[39m# Otherwise it looks like a bug in the code.\u001b[39;00m\n",
      "File \u001b[1;32mc:\\Users\\Chiwoong\\AppData\\Local\\Programs\\Python\\Python310\\lib\\http\\client.py:1374\u001b[0m, in \u001b[0;36mHTTPConnection.getresponse\u001b[1;34m(self)\u001b[0m\n\u001b[0;32m   1373\u001b[0m \u001b[39mtry\u001b[39;00m:\n\u001b[1;32m-> 1374\u001b[0m     response\u001b[39m.\u001b[39;49mbegin()\n\u001b[0;32m   1375\u001b[0m \u001b[39mexcept\u001b[39;00m \u001b[39mConnectionError\u001b[39;00m:\n",
      "File \u001b[1;32mc:\\Users\\Chiwoong\\AppData\\Local\\Programs\\Python\\Python310\\lib\\http\\client.py:318\u001b[0m, in \u001b[0;36mHTTPResponse.begin\u001b[1;34m(self)\u001b[0m\n\u001b[0;32m    317\u001b[0m \u001b[39mwhile\u001b[39;00m \u001b[39mTrue\u001b[39;00m:\n\u001b[1;32m--> 318\u001b[0m     version, status, reason \u001b[39m=\u001b[39m \u001b[39mself\u001b[39;49m\u001b[39m.\u001b[39;49m_read_status()\n\u001b[0;32m    319\u001b[0m     \u001b[39mif\u001b[39;00m status \u001b[39m!=\u001b[39m CONTINUE:\n",
      "File \u001b[1;32mc:\\Users\\Chiwoong\\AppData\\Local\\Programs\\Python\\Python310\\lib\\http\\client.py:279\u001b[0m, in \u001b[0;36mHTTPResponse._read_status\u001b[1;34m(self)\u001b[0m\n\u001b[0;32m    278\u001b[0m \u001b[39mdef\u001b[39;00m \u001b[39m_read_status\u001b[39m(\u001b[39mself\u001b[39m):\n\u001b[1;32m--> 279\u001b[0m     line \u001b[39m=\u001b[39m \u001b[39mstr\u001b[39m(\u001b[39mself\u001b[39;49m\u001b[39m.\u001b[39;49mfp\u001b[39m.\u001b[39;49mreadline(_MAXLINE \u001b[39m+\u001b[39;49m \u001b[39m1\u001b[39;49m), \u001b[39m\"\u001b[39m\u001b[39miso-8859-1\u001b[39m\u001b[39m\"\u001b[39m)\n\u001b[0;32m    280\u001b[0m     \u001b[39mif\u001b[39;00m \u001b[39mlen\u001b[39m(line) \u001b[39m>\u001b[39m _MAXLINE:\n",
      "File \u001b[1;32mc:\\Users\\Chiwoong\\AppData\\Local\\Programs\\Python\\Python310\\lib\\socket.py:705\u001b[0m, in \u001b[0;36mSocketIO.readinto\u001b[1;34m(self, b)\u001b[0m\n\u001b[0;32m    704\u001b[0m \u001b[39mtry\u001b[39;00m:\n\u001b[1;32m--> 705\u001b[0m     \u001b[39mreturn\u001b[39;00m \u001b[39mself\u001b[39;49m\u001b[39m.\u001b[39;49m_sock\u001b[39m.\u001b[39;49mrecv_into(b)\n\u001b[0;32m    706\u001b[0m \u001b[39mexcept\u001b[39;00m timeout:\n",
      "\u001b[1;31mConnectionResetError\u001b[0m: [WinError 10054] 현재 연결은 원격 호스트에 의해 강제로 끊겼습니다",
      "\nDuring handling of the above exception, another exception occurred:\n",
      "\u001b[1;31mProtocolError\u001b[0m                             Traceback (most recent call last)",
      "Cell \u001b[1;32mIn[19], line 28\u001b[0m\n\u001b[0;32m     26\u001b[0m     \u001b[39mexcept\u001b[39;00m: \n\u001b[0;32m     27\u001b[0m         \u001b[39mprint\u001b[39m(\u001b[39m\"\u001b[39m\u001b[39mX\u001b[39m\u001b[39m\"\u001b[39m, end\u001b[39m=\u001b[39m\u001b[39m\"\u001b[39m\u001b[39m\"\u001b[39m)\n\u001b[1;32m---> 28\u001b[0m     driver\u001b[39m.\u001b[39;49mback()\n\u001b[0;32m     29\u001b[0m index \u001b[39m+\u001b[39m\u001b[39m=\u001b[39m \u001b[39m50\u001b[39m\n\u001b[0;32m     30\u001b[0m \u001b[39mprint\u001b[39m(\u001b[39m\"\u001b[39m\u001b[39m\"\u001b[39m)\n",
      "File \u001b[1;32mc:\\Users\\Chiwoong\\AppData\\Local\\Programs\\Python\\Python310\\lib\\site-packages\\selenium\\webdriver\\remote\\webdriver.py:643\u001b[0m, in \u001b[0;36mWebDriver.back\u001b[1;34m(self)\u001b[0m\n\u001b[0;32m    635\u001b[0m \u001b[39mdef\u001b[39;00m \u001b[39mback\u001b[39m(\u001b[39mself\u001b[39m) \u001b[39m-\u001b[39m\u001b[39m>\u001b[39m \u001b[39mNone\u001b[39;00m:\n\u001b[0;32m    636\u001b[0m \u001b[39m    \u001b[39m\u001b[39m\"\"\"Goes one step backward in the browser history.\u001b[39;00m\n\u001b[0;32m    637\u001b[0m \n\u001b[0;32m    638\u001b[0m \u001b[39m    :Usage:\u001b[39;00m\n\u001b[1;32m   (...)\u001b[0m\n\u001b[0;32m    641\u001b[0m \u001b[39m            driver.back()\u001b[39;00m\n\u001b[0;32m    642\u001b[0m \u001b[39m    \"\"\"\u001b[39;00m\n\u001b[1;32m--> 643\u001b[0m     \u001b[39mself\u001b[39;49m\u001b[39m.\u001b[39;49mexecute(Command\u001b[39m.\u001b[39;49mGO_BACK)\n",
      "File \u001b[1;32mc:\\Users\\Chiwoong\\AppData\\Local\\Programs\\Python\\Python310\\lib\\site-packages\\selenium\\webdriver\\remote\\webdriver.py:438\u001b[0m, in \u001b[0;36mWebDriver.execute\u001b[1;34m(self, driver_command, params)\u001b[0m\n\u001b[0;32m    435\u001b[0m     \u001b[39melif\u001b[39;00m \u001b[39m\"\u001b[39m\u001b[39msessionId\u001b[39m\u001b[39m\"\u001b[39m \u001b[39mnot\u001b[39;00m \u001b[39min\u001b[39;00m params:\n\u001b[0;32m    436\u001b[0m         params[\u001b[39m\"\u001b[39m\u001b[39msessionId\u001b[39m\u001b[39m\"\u001b[39m] \u001b[39m=\u001b[39m \u001b[39mself\u001b[39m\u001b[39m.\u001b[39msession_id\n\u001b[1;32m--> 438\u001b[0m response \u001b[39m=\u001b[39m \u001b[39mself\u001b[39;49m\u001b[39m.\u001b[39;49mcommand_executor\u001b[39m.\u001b[39;49mexecute(driver_command, params)\n\u001b[0;32m    439\u001b[0m \u001b[39mif\u001b[39;00m response:\n\u001b[0;32m    440\u001b[0m     \u001b[39mself\u001b[39m\u001b[39m.\u001b[39merror_handler\u001b[39m.\u001b[39mcheck_response(response)\n",
      "File \u001b[1;32mc:\\Users\\Chiwoong\\AppData\\Local\\Programs\\Python\\Python310\\lib\\site-packages\\selenium\\webdriver\\remote\\remote_connection.py:290\u001b[0m, in \u001b[0;36mRemoteConnection.execute\u001b[1;34m(self, command, params)\u001b[0m\n\u001b[0;32m    288\u001b[0m data \u001b[39m=\u001b[39m utils\u001b[39m.\u001b[39mdump_json(params)\n\u001b[0;32m    289\u001b[0m url \u001b[39m=\u001b[39m \u001b[39mf\u001b[39m\u001b[39m\"\u001b[39m\u001b[39m{\u001b[39;00m\u001b[39mself\u001b[39m\u001b[39m.\u001b[39m_url\u001b[39m}\u001b[39;00m\u001b[39m{\u001b[39;00mpath\u001b[39m}\u001b[39;00m\u001b[39m\"\u001b[39m\n\u001b[1;32m--> 290\u001b[0m \u001b[39mreturn\u001b[39;00m \u001b[39mself\u001b[39;49m\u001b[39m.\u001b[39;49m_request(command_info[\u001b[39m0\u001b[39;49m], url, body\u001b[39m=\u001b[39;49mdata)\n",
      "File \u001b[1;32mc:\\Users\\Chiwoong\\AppData\\Local\\Programs\\Python\\Python310\\lib\\site-packages\\selenium\\webdriver\\remote\\remote_connection.py:311\u001b[0m, in \u001b[0;36mRemoteConnection._request\u001b[1;34m(self, method, url, body)\u001b[0m\n\u001b[0;32m    308\u001b[0m     body \u001b[39m=\u001b[39m \u001b[39mNone\u001b[39;00m\n\u001b[0;32m    310\u001b[0m \u001b[39mif\u001b[39;00m \u001b[39mself\u001b[39m\u001b[39m.\u001b[39mkeep_alive:\n\u001b[1;32m--> 311\u001b[0m     response \u001b[39m=\u001b[39m \u001b[39mself\u001b[39;49m\u001b[39m.\u001b[39;49m_conn\u001b[39m.\u001b[39;49mrequest(method, url, body\u001b[39m=\u001b[39;49mbody, headers\u001b[39m=\u001b[39;49mheaders)\n\u001b[0;32m    312\u001b[0m     statuscode \u001b[39m=\u001b[39m response\u001b[39m.\u001b[39mstatus\n\u001b[0;32m    313\u001b[0m \u001b[39melse\u001b[39;00m:\n",
      "File \u001b[1;32mc:\\Users\\Chiwoong\\AppData\\Local\\Programs\\Python\\Python310\\lib\\site-packages\\urllib3\\request.py:78\u001b[0m, in \u001b[0;36mRequestMethods.request\u001b[1;34m(self, method, url, fields, headers, **urlopen_kw)\u001b[0m\n\u001b[0;32m     74\u001b[0m     \u001b[39mreturn\u001b[39;00m \u001b[39mself\u001b[39m\u001b[39m.\u001b[39mrequest_encode_url(\n\u001b[0;32m     75\u001b[0m         method, url, fields\u001b[39m=\u001b[39mfields, headers\u001b[39m=\u001b[39mheaders, \u001b[39m*\u001b[39m\u001b[39m*\u001b[39murlopen_kw\n\u001b[0;32m     76\u001b[0m     )\n\u001b[0;32m     77\u001b[0m \u001b[39melse\u001b[39;00m:\n\u001b[1;32m---> 78\u001b[0m     \u001b[39mreturn\u001b[39;00m \u001b[39mself\u001b[39m\u001b[39m.\u001b[39mrequest_encode_body(\n\u001b[0;32m     79\u001b[0m         method, url, fields\u001b[39m=\u001b[39mfields, headers\u001b[39m=\u001b[39mheaders, \u001b[39m*\u001b[39m\u001b[39m*\u001b[39murlopen_kw\n\u001b[0;32m     80\u001b[0m     )\n",
      "File \u001b[1;32mc:\\Users\\Chiwoong\\AppData\\Local\\Programs\\Python\\Python310\\lib\\site-packages\\urllib3\\request.py:170\u001b[0m, in \u001b[0;36mRequestMethods.request_encode_body\u001b[1;34m(self, method, url, fields, headers, encode_multipart, multipart_boundary, **urlopen_kw)\u001b[0m\n\u001b[0;32m    167\u001b[0m extra_kw[\u001b[39m\"\u001b[39m\u001b[39mheaders\u001b[39m\u001b[39m\"\u001b[39m]\u001b[39m.\u001b[39mupdate(headers)\n\u001b[0;32m    168\u001b[0m extra_kw\u001b[39m.\u001b[39mupdate(urlopen_kw)\n\u001b[1;32m--> 170\u001b[0m \u001b[39mreturn\u001b[39;00m \u001b[39mself\u001b[39m\u001b[39m.\u001b[39murlopen(method, url, \u001b[39m*\u001b[39m\u001b[39m*\u001b[39mextra_kw)\n",
      "File \u001b[1;32mc:\\Users\\Chiwoong\\AppData\\Local\\Programs\\Python\\Python310\\lib\\site-packages\\urllib3\\poolmanager.py:376\u001b[0m, in \u001b[0;36mPoolManager.urlopen\u001b[1;34m(self, method, url, redirect, **kw)\u001b[0m\n\u001b[0;32m    374\u001b[0m     response \u001b[39m=\u001b[39m conn\u001b[39m.\u001b[39murlopen(method, url, \u001b[39m*\u001b[39m\u001b[39m*\u001b[39mkw)\n\u001b[0;32m    375\u001b[0m \u001b[39melse\u001b[39;00m:\n\u001b[1;32m--> 376\u001b[0m     response \u001b[39m=\u001b[39m conn\u001b[39m.\u001b[39murlopen(method, u\u001b[39m.\u001b[39mrequest_uri, \u001b[39m*\u001b[39m\u001b[39m*\u001b[39mkw)\n\u001b[0;32m    378\u001b[0m redirect_location \u001b[39m=\u001b[39m redirect \u001b[39mand\u001b[39;00m response\u001b[39m.\u001b[39mget_redirect_location()\n\u001b[0;32m    379\u001b[0m \u001b[39mif\u001b[39;00m \u001b[39mnot\u001b[39;00m redirect_location:\n",
      "File \u001b[1;32mc:\\Users\\Chiwoong\\AppData\\Local\\Programs\\Python\\Python310\\lib\\site-packages\\urllib3\\connectionpool.py:787\u001b[0m, in \u001b[0;36mHTTPConnectionPool.urlopen\u001b[1;34m(self, method, url, body, headers, retries, redirect, assert_same_host, timeout, pool_timeout, release_conn, chunked, body_pos, **response_kw)\u001b[0m\n\u001b[0;32m    784\u001b[0m \u001b[39melif\u001b[39;00m \u001b[39misinstance\u001b[39m(e, (SocketError, HTTPException)):\n\u001b[0;32m    785\u001b[0m     e \u001b[39m=\u001b[39m ProtocolError(\u001b[39m\"\u001b[39m\u001b[39mConnection aborted.\u001b[39m\u001b[39m\"\u001b[39m, e)\n\u001b[1;32m--> 787\u001b[0m retries \u001b[39m=\u001b[39m retries\u001b[39m.\u001b[39;49mincrement(\n\u001b[0;32m    788\u001b[0m     method, url, error\u001b[39m=\u001b[39;49me, _pool\u001b[39m=\u001b[39;49m\u001b[39mself\u001b[39;49m, _stacktrace\u001b[39m=\u001b[39;49msys\u001b[39m.\u001b[39;49mexc_info()[\u001b[39m2\u001b[39;49m]\n\u001b[0;32m    789\u001b[0m )\n\u001b[0;32m    790\u001b[0m retries\u001b[39m.\u001b[39msleep()\n\u001b[0;32m    792\u001b[0m \u001b[39m# Keep track of the error for the retry warning.\u001b[39;00m\n",
      "File \u001b[1;32mc:\\Users\\Chiwoong\\AppData\\Local\\Programs\\Python\\Python310\\lib\\site-packages\\urllib3\\util\\retry.py:550\u001b[0m, in \u001b[0;36mRetry.increment\u001b[1;34m(self, method, url, response, error, _pool, _stacktrace)\u001b[0m\n\u001b[0;32m    547\u001b[0m \u001b[39melif\u001b[39;00m error \u001b[39mand\u001b[39;00m \u001b[39mself\u001b[39m\u001b[39m.\u001b[39m_is_read_error(error):\n\u001b[0;32m    548\u001b[0m     \u001b[39m# Read retry?\u001b[39;00m\n\u001b[0;32m    549\u001b[0m     \u001b[39mif\u001b[39;00m read \u001b[39mis\u001b[39;00m \u001b[39mFalse\u001b[39;00m \u001b[39mor\u001b[39;00m \u001b[39mnot\u001b[39;00m \u001b[39mself\u001b[39m\u001b[39m.\u001b[39m_is_method_retryable(method):\n\u001b[1;32m--> 550\u001b[0m         \u001b[39mraise\u001b[39;00m six\u001b[39m.\u001b[39;49mreraise(\u001b[39mtype\u001b[39;49m(error), error, _stacktrace)\n\u001b[0;32m    551\u001b[0m     \u001b[39melif\u001b[39;00m read \u001b[39mis\u001b[39;00m \u001b[39mnot\u001b[39;00m \u001b[39mNone\u001b[39;00m:\n\u001b[0;32m    552\u001b[0m         read \u001b[39m-\u001b[39m\u001b[39m=\u001b[39m \u001b[39m1\u001b[39m\n",
      "File \u001b[1;32mc:\\Users\\Chiwoong\\AppData\\Local\\Programs\\Python\\Python310\\lib\\site-packages\\urllib3\\packages\\six.py:769\u001b[0m, in \u001b[0;36mreraise\u001b[1;34m(tp, value, tb)\u001b[0m\n\u001b[0;32m    767\u001b[0m         value \u001b[39m=\u001b[39m tp()\n\u001b[0;32m    768\u001b[0m     \u001b[39mif\u001b[39;00m value\u001b[39m.\u001b[39m__traceback__ \u001b[39mis\u001b[39;00m \u001b[39mnot\u001b[39;00m tb:\n\u001b[1;32m--> 769\u001b[0m         \u001b[39mraise\u001b[39;00m value\u001b[39m.\u001b[39mwith_traceback(tb)\n\u001b[0;32m    770\u001b[0m     \u001b[39mraise\u001b[39;00m value\n\u001b[0;32m    771\u001b[0m \u001b[39mfinally\u001b[39;00m:\n",
      "File \u001b[1;32mc:\\Users\\Chiwoong\\AppData\\Local\\Programs\\Python\\Python310\\lib\\site-packages\\urllib3\\connectionpool.py:703\u001b[0m, in \u001b[0;36mHTTPConnectionPool.urlopen\u001b[1;34m(self, method, url, body, headers, retries, redirect, assert_same_host, timeout, pool_timeout, release_conn, chunked, body_pos, **response_kw)\u001b[0m\n\u001b[0;32m    700\u001b[0m     \u001b[39mself\u001b[39m\u001b[39m.\u001b[39m_prepare_proxy(conn)\n\u001b[0;32m    702\u001b[0m \u001b[39m# Make the request on the httplib connection object.\u001b[39;00m\n\u001b[1;32m--> 703\u001b[0m httplib_response \u001b[39m=\u001b[39m \u001b[39mself\u001b[39;49m\u001b[39m.\u001b[39;49m_make_request(\n\u001b[0;32m    704\u001b[0m     conn,\n\u001b[0;32m    705\u001b[0m     method,\n\u001b[0;32m    706\u001b[0m     url,\n\u001b[0;32m    707\u001b[0m     timeout\u001b[39m=\u001b[39;49mtimeout_obj,\n\u001b[0;32m    708\u001b[0m     body\u001b[39m=\u001b[39;49mbody,\n\u001b[0;32m    709\u001b[0m     headers\u001b[39m=\u001b[39;49mheaders,\n\u001b[0;32m    710\u001b[0m     chunked\u001b[39m=\u001b[39;49mchunked,\n\u001b[0;32m    711\u001b[0m )\n\u001b[0;32m    713\u001b[0m \u001b[39m# If we're going to release the connection in ``finally:``, then\u001b[39;00m\n\u001b[0;32m    714\u001b[0m \u001b[39m# the response doesn't need to know about the connection. Otherwise\u001b[39;00m\n\u001b[0;32m    715\u001b[0m \u001b[39m# it will also try to release it and we'll have a double-release\u001b[39;00m\n\u001b[0;32m    716\u001b[0m \u001b[39m# mess.\u001b[39;00m\n\u001b[0;32m    717\u001b[0m response_conn \u001b[39m=\u001b[39m conn \u001b[39mif\u001b[39;00m \u001b[39mnot\u001b[39;00m release_conn \u001b[39melse\u001b[39;00m \u001b[39mNone\u001b[39;00m\n",
      "File \u001b[1;32mc:\\Users\\Chiwoong\\AppData\\Local\\Programs\\Python\\Python310\\lib\\site-packages\\urllib3\\connectionpool.py:449\u001b[0m, in \u001b[0;36mHTTPConnectionPool._make_request\u001b[1;34m(self, conn, method, url, timeout, chunked, **httplib_request_kw)\u001b[0m\n\u001b[0;32m    444\u001b[0m             httplib_response \u001b[39m=\u001b[39m conn\u001b[39m.\u001b[39mgetresponse()\n\u001b[0;32m    445\u001b[0m         \u001b[39mexcept\u001b[39;00m \u001b[39mBaseException\u001b[39;00m \u001b[39mas\u001b[39;00m e:\n\u001b[0;32m    446\u001b[0m             \u001b[39m# Remove the TypeError from the exception chain in\u001b[39;00m\n\u001b[0;32m    447\u001b[0m             \u001b[39m# Python 3 (including for exceptions like SystemExit).\u001b[39;00m\n\u001b[0;32m    448\u001b[0m             \u001b[39m# Otherwise it looks like a bug in the code.\u001b[39;00m\n\u001b[1;32m--> 449\u001b[0m             six\u001b[39m.\u001b[39;49mraise_from(e, \u001b[39mNone\u001b[39;49;00m)\n\u001b[0;32m    450\u001b[0m \u001b[39mexcept\u001b[39;00m (SocketTimeout, BaseSSLError, SocketError) \u001b[39mas\u001b[39;00m e:\n\u001b[0;32m    451\u001b[0m     \u001b[39mself\u001b[39m\u001b[39m.\u001b[39m_raise_timeout(err\u001b[39m=\u001b[39me, url\u001b[39m=\u001b[39murl, timeout_value\u001b[39m=\u001b[39mread_timeout)\n",
      "File \u001b[1;32m<string>:3\u001b[0m, in \u001b[0;36mraise_from\u001b[1;34m(value, from_value)\u001b[0m\n",
      "File \u001b[1;32mc:\\Users\\Chiwoong\\AppData\\Local\\Programs\\Python\\Python310\\lib\\site-packages\\urllib3\\connectionpool.py:444\u001b[0m, in \u001b[0;36mHTTPConnectionPool._make_request\u001b[1;34m(self, conn, method, url, timeout, chunked, **httplib_request_kw)\u001b[0m\n\u001b[0;32m    441\u001b[0m \u001b[39mexcept\u001b[39;00m \u001b[39mTypeError\u001b[39;00m:\n\u001b[0;32m    442\u001b[0m     \u001b[39m# Python 3\u001b[39;00m\n\u001b[0;32m    443\u001b[0m     \u001b[39mtry\u001b[39;00m:\n\u001b[1;32m--> 444\u001b[0m         httplib_response \u001b[39m=\u001b[39m conn\u001b[39m.\u001b[39;49mgetresponse()\n\u001b[0;32m    445\u001b[0m     \u001b[39mexcept\u001b[39;00m \u001b[39mBaseException\u001b[39;00m \u001b[39mas\u001b[39;00m e:\n\u001b[0;32m    446\u001b[0m         \u001b[39m# Remove the TypeError from the exception chain in\u001b[39;00m\n\u001b[0;32m    447\u001b[0m         \u001b[39m# Python 3 (including for exceptions like SystemExit).\u001b[39;00m\n\u001b[0;32m    448\u001b[0m         \u001b[39m# Otherwise it looks like a bug in the code.\u001b[39;00m\n\u001b[0;32m    449\u001b[0m         six\u001b[39m.\u001b[39mraise_from(e, \u001b[39mNone\u001b[39;00m)\n",
      "File \u001b[1;32mc:\\Users\\Chiwoong\\AppData\\Local\\Programs\\Python\\Python310\\lib\\http\\client.py:1374\u001b[0m, in \u001b[0;36mHTTPConnection.getresponse\u001b[1;34m(self)\u001b[0m\n\u001b[0;32m   1372\u001b[0m \u001b[39mtry\u001b[39;00m:\n\u001b[0;32m   1373\u001b[0m     \u001b[39mtry\u001b[39;00m:\n\u001b[1;32m-> 1374\u001b[0m         response\u001b[39m.\u001b[39;49mbegin()\n\u001b[0;32m   1375\u001b[0m     \u001b[39mexcept\u001b[39;00m \u001b[39mConnectionError\u001b[39;00m:\n\u001b[0;32m   1376\u001b[0m         \u001b[39mself\u001b[39m\u001b[39m.\u001b[39mclose()\n",
      "File \u001b[1;32mc:\\Users\\Chiwoong\\AppData\\Local\\Programs\\Python\\Python310\\lib\\http\\client.py:318\u001b[0m, in \u001b[0;36mHTTPResponse.begin\u001b[1;34m(self)\u001b[0m\n\u001b[0;32m    316\u001b[0m \u001b[39m# read until we get a non-100 response\u001b[39;00m\n\u001b[0;32m    317\u001b[0m \u001b[39mwhile\u001b[39;00m \u001b[39mTrue\u001b[39;00m:\n\u001b[1;32m--> 318\u001b[0m     version, status, reason \u001b[39m=\u001b[39m \u001b[39mself\u001b[39;49m\u001b[39m.\u001b[39;49m_read_status()\n\u001b[0;32m    319\u001b[0m     \u001b[39mif\u001b[39;00m status \u001b[39m!=\u001b[39m CONTINUE:\n\u001b[0;32m    320\u001b[0m         \u001b[39mbreak\u001b[39;00m\n",
      "File \u001b[1;32mc:\\Users\\Chiwoong\\AppData\\Local\\Programs\\Python\\Python310\\lib\\http\\client.py:279\u001b[0m, in \u001b[0;36mHTTPResponse._read_status\u001b[1;34m(self)\u001b[0m\n\u001b[0;32m    278\u001b[0m \u001b[39mdef\u001b[39;00m \u001b[39m_read_status\u001b[39m(\u001b[39mself\u001b[39m):\n\u001b[1;32m--> 279\u001b[0m     line \u001b[39m=\u001b[39m \u001b[39mstr\u001b[39m(\u001b[39mself\u001b[39;49m\u001b[39m.\u001b[39;49mfp\u001b[39m.\u001b[39;49mreadline(_MAXLINE \u001b[39m+\u001b[39;49m \u001b[39m1\u001b[39;49m), \u001b[39m\"\u001b[39m\u001b[39miso-8859-1\u001b[39m\u001b[39m\"\u001b[39m)\n\u001b[0;32m    280\u001b[0m     \u001b[39mif\u001b[39;00m \u001b[39mlen\u001b[39m(line) \u001b[39m>\u001b[39m _MAXLINE:\n\u001b[0;32m    281\u001b[0m         \u001b[39mraise\u001b[39;00m LineTooLong(\u001b[39m\"\u001b[39m\u001b[39mstatus line\u001b[39m\u001b[39m\"\u001b[39m)\n",
      "File \u001b[1;32mc:\\Users\\Chiwoong\\AppData\\Local\\Programs\\Python\\Python310\\lib\\socket.py:705\u001b[0m, in \u001b[0;36mSocketIO.readinto\u001b[1;34m(self, b)\u001b[0m\n\u001b[0;32m    703\u001b[0m \u001b[39mwhile\u001b[39;00m \u001b[39mTrue\u001b[39;00m:\n\u001b[0;32m    704\u001b[0m     \u001b[39mtry\u001b[39;00m:\n\u001b[1;32m--> 705\u001b[0m         \u001b[39mreturn\u001b[39;00m \u001b[39mself\u001b[39;49m\u001b[39m.\u001b[39;49m_sock\u001b[39m.\u001b[39;49mrecv_into(b)\n\u001b[0;32m    706\u001b[0m     \u001b[39mexcept\u001b[39;00m timeout:\n\u001b[0;32m    707\u001b[0m         \u001b[39mself\u001b[39m\u001b[39m.\u001b[39m_timeout_occurred \u001b[39m=\u001b[39m \u001b[39mTrue\u001b[39;00m\n",
      "\u001b[1;31mProtocolError\u001b[0m: ('Connection aborted.', ConnectionResetError(10054, '현재 연결은 원격 호스트에 의해 강제로 끊겼습니다', None, 10054, None))"
     ]
    }
   ],
   "source": [
    "#index = 1\n",
    "num_page = 200\n",
    "for e in range(1, num_page):\n",
    "    print(f'{e}th page ongoing..')\n",
    "    for i in range(0,50):\n",
    "        more_info_list = driver.find_elements(By.CSS_SELECTOR, \".btn.button_icons.type03.song_info\")\n",
    "        more_info_list[i].click()\n",
    "        time.sleep(1)\n",
    "        # 제목 가져오기\n",
    "        try: \n",
    "            song = driver.find_element(By.CSS_SELECTOR, \".song_name\")\n",
    "            # 가수 가져오기\n",
    "            artist = driver.find_element(By.CSS_SELECTOR, \".artist\")\n",
    "            # 펼치기 버튼 클릭\n",
    "            time.sleep(1)\n",
    "            driver.find_element(By.CSS_SELECTOR, \".button_more.arrow_d\").click()\n",
    "            #print(1)\n",
    "            # 가사 출력이 잘 되는지 확인\n",
    "            lyric = driver.find_element(By.CSS_SELECTOR, \".lyric.on\")\n",
    "            print(i + 1, end=\"\")\n",
    "            # 데이터 df에 추가\n",
    "            new_row = {'title': song.text, 'artist': artist.text, 'lyrics': lyric.text}\n",
    "            #print(3)\n",
    "            df = pd.concat([df, pd.DataFrame([new_row])], ignore_index=True)\n",
    "            print(\"O\", end=\"\")\n",
    "        except: \n",
    "            print(\"X\", end=\"\")\n",
    "        driver.back()\n",
    "    index += 50\n",
    "    print(\"\")\n",
    "    driver.find_element(By.XPATH, f'//a[@href=\"javascript:pageObj.sendPage(\\'{index}\\');\"]').click()"
   ]
  },
  {
   "cell_type": "code",
   "execution_count": 20,
   "id": "e509af57",
   "metadata": {},
   "outputs": [
    {
     "data": {
      "text/html": [
       "<div>\n",
       "<style scoped>\n",
       "    .dataframe tbody tr th:only-of-type {\n",
       "        vertical-align: middle;\n",
       "    }\n",
       "\n",
       "    .dataframe tbody tr th {\n",
       "        vertical-align: top;\n",
       "    }\n",
       "\n",
       "    .dataframe thead th {\n",
       "        text-align: right;\n",
       "    }\n",
       "</style>\n",
       "<table border=\"1\" class=\"dataframe\">\n",
       "  <thead>\n",
       "    <tr style=\"text-align: right;\">\n",
       "      <th></th>\n",
       "      <th>title</th>\n",
       "      <th>artist</th>\n",
       "      <th>lyrics</th>\n",
       "    </tr>\n",
       "  </thead>\n",
       "  <tbody>\n",
       "    <tr>\n",
       "      <th>0</th>\n",
       "      <td>I AM</td>\n",
       "      <td>IVE (아이브)</td>\n",
       "      <td>다른 문을 열어 따라 갈 필요는 없어\\n넌 너의 길로 난 나의 길로 음\\n하루하루마...</td>\n",
       "    </tr>\n",
       "    <tr>\n",
       "      <th>1</th>\n",
       "      <td>물론</td>\n",
       "      <td>허각</td>\n",
       "      <td>가진 게 그리 많진 않아\\n어쩌면 많이 부족할지 몰라\\n가끔 나와 다투기도 하겠지만...</td>\n",
       "    </tr>\n",
       "    <tr>\n",
       "      <th>2</th>\n",
       "      <td>헤어지자 말해요</td>\n",
       "      <td>박재정</td>\n",
       "      <td>헤어지자고 말하려 오늘\\n너에게 가다가 우리 추억 생각해 봤어\\n처음 본 네 얼굴\\...</td>\n",
       "    </tr>\n",
       "    <tr>\n",
       "      <th>3</th>\n",
       "      <td>Heaven(2023)</td>\n",
       "      <td>임재현</td>\n",
       "      <td>왜 이제 왔나요 더 야윈 그대\\n나만큼 힘들었나요\\n두 번 살게 하네요 그대 내 삶...</td>\n",
       "    </tr>\n",
       "    <tr>\n",
       "      <th>4</th>\n",
       "      <td>안녕이라고 말하지마</td>\n",
       "      <td>V.O.S</td>\n",
       "      <td>떨리는 너의 입술을 난 난 처음 보았지\\n무슨 말 하려고 말 하려고 뜸만 들이는지\\...</td>\n",
       "    </tr>\n",
       "    <tr>\n",
       "      <th>...</th>\n",
       "      <td>...</td>\n",
       "      <td>...</td>\n",
       "      <td>...</td>\n",
       "    </tr>\n",
       "    <tr>\n",
       "      <th>23143</th>\n",
       "      <td>시옷</td>\n",
       "      <td>조소정</td>\n",
       "      <td>선 너와 내가 가진 선\\n선처럼 외로이 울고 있던 난\\n너를 만나 기대는 법을 배웠...</td>\n",
       "    </tr>\n",
       "    <tr>\n",
       "      <th>23144</th>\n",
       "      <td>우리는 너무 많은 것을</td>\n",
       "      <td>스웨덴세탁소</td>\n",
       "      <td>자주 꿈을 꿨어\\n그 안의 우린 뭐가 그리도 신나는지\\n넘어져도 웃기만 했어\\n어려...</td>\n",
       "    </tr>\n",
       "    <tr>\n",
       "      <th>23145</th>\n",
       "      <td>널 사랑한 기억 (feat. 가원)</td>\n",
       "      <td>케이플라워 (K. Flower)</td>\n",
       "      <td>우리 처음 만났던 그때를 기억하나요\\n수줍어 미소만\\n너의 손을 잡고서 함께 걷던 ...</td>\n",
       "    </tr>\n",
       "    <tr>\n",
       "      <th>23146</th>\n",
       "      <td>순간</td>\n",
       "      <td>최열음</td>\n",
       "      <td>사랑을 말했었던 순간\\n영원을 말했었던 순간\\n그 순간들이 이제는 허무하게\\n흩어졌...</td>\n",
       "    </tr>\n",
       "    <tr>\n",
       "      <th>23147</th>\n",
       "      <td>너의 밤, 나의 별</td>\n",
       "      <td>휘현&amp;학선</td>\n",
       "      <td>우리 함께했던 날 그 밤처럼\\n너와 내가 사랑했던 추억이\\n널 처음 만났던 그때 그...</td>\n",
       "    </tr>\n",
       "  </tbody>\n",
       "</table>\n",
       "<p>23148 rows × 3 columns</p>\n",
       "</div>"
      ],
      "text/plain": [
       "                     title             artist   \n",
       "0                     I AM          IVE (아이브)  \\\n",
       "1                       물론                 허각   \n",
       "2                 헤어지자 말해요                박재정   \n",
       "3             Heaven(2023)                임재현   \n",
       "4               안녕이라고 말하지마              V.O.S   \n",
       "...                    ...                ...   \n",
       "23143                   시옷                조소정   \n",
       "23144         우리는 너무 많은 것을             스웨덴세탁소   \n",
       "23145  널 사랑한 기억 (feat. 가원)  케이플라워 (K. Flower)   \n",
       "23146                   순간                최열음   \n",
       "23147           너의 밤, 나의 별              휘현&학선   \n",
       "\n",
       "                                                  lyrics  \n",
       "0      다른 문을 열어 따라 갈 필요는 없어\\n넌 너의 길로 난 나의 길로 음\\n하루하루마...  \n",
       "1      가진 게 그리 많진 않아\\n어쩌면 많이 부족할지 몰라\\n가끔 나와 다투기도 하겠지만...  \n",
       "2      헤어지자고 말하려 오늘\\n너에게 가다가 우리 추억 생각해 봤어\\n처음 본 네 얼굴\\...  \n",
       "3      왜 이제 왔나요 더 야윈 그대\\n나만큼 힘들었나요\\n두 번 살게 하네요 그대 내 삶...  \n",
       "4      떨리는 너의 입술을 난 난 처음 보았지\\n무슨 말 하려고 말 하려고 뜸만 들이는지\\...  \n",
       "...                                                  ...  \n",
       "23143  선 너와 내가 가진 선\\n선처럼 외로이 울고 있던 난\\n너를 만나 기대는 법을 배웠...  \n",
       "23144  자주 꿈을 꿨어\\n그 안의 우린 뭐가 그리도 신나는지\\n넘어져도 웃기만 했어\\n어려...  \n",
       "23145  우리 처음 만났던 그때를 기억하나요\\n수줍어 미소만\\n너의 손을 잡고서 함께 걷던 ...  \n",
       "23146  사랑을 말했었던 순간\\n영원을 말했었던 순간\\n그 순간들이 이제는 허무하게\\n흩어졌...  \n",
       "23147  우리 함께했던 날 그 밤처럼\\n너와 내가 사랑했던 추억이\\n널 처음 만났던 그때 그...  \n",
       "\n",
       "[23148 rows x 3 columns]"
      ]
     },
     "execution_count": 20,
     "metadata": {},
     "output_type": "execute_result"
    }
   ],
   "source": [
    "df"
   ]
  },
  {
   "cell_type": "code",
   "execution_count": 8,
   "id": "24d50b31",
   "metadata": {},
   "outputs": [
    {
     "ename": "NoSuchElementException",
     "evalue": "Message: no such element: Unable to locate element: {\"method\":\"xpath\",\"selector\":\"//a[@href=\"javascript:pageObj.sendPage('20001');\"]\"}\n  (Session info: chrome=113.0.5672.127)\nStacktrace:\nBacktrace:\n\tGetHandleVerifier [0x009F8893+48451]\n\t(No symbol) [0x0098B8A1]\n\t(No symbol) [0x00895058]\n\t(No symbol) [0x008C0467]\n\t(No symbol) [0x008C069B]\n\t(No symbol) [0x008EDD92]\n\t(No symbol) [0x008DA304]\n\t(No symbol) [0x008EC482]\n\t(No symbol) [0x008DA0B6]\n\t(No symbol) [0x008B7E08]\n\t(No symbol) [0x008B8F2D]\n\tGetHandleVerifier [0x00C58E3A+2540266]\n\tGetHandleVerifier [0x00C98959+2801161]\n\tGetHandleVerifier [0x00C9295C+2776588]\n\tGetHandleVerifier [0x00A82280+612144]\n\t(No symbol) [0x00994F6C]\n\t(No symbol) [0x009911D8]\n\t(No symbol) [0x009912BB]\n\t(No symbol) [0x00984857]\n\tBaseThreadInitThunk [0x767D00C9+25]\n\tRtlGetAppContainerNamedObjectPath [0x770F7B4E+286]\n\tRtlGetAppContainerNamedObjectPath [0x770F7B1E+238]\n",
     "output_type": "error",
     "traceback": [
      "\u001b[1;31m---------------------------------------------------------------------------\u001b[0m",
      "\u001b[1;31mNoSuchElementException\u001b[0m                    Traceback (most recent call last)",
      "Cell \u001b[1;32mIn[8], line 1\u001b[0m\n\u001b[1;32m----> 1\u001b[0m driver\u001b[39m.\u001b[39;49mfind_element(By\u001b[39m.\u001b[39;49mXPATH, \u001b[39m'\u001b[39;49m\u001b[39m//a[@href=\u001b[39;49m\u001b[39m\"\u001b[39;49m\u001b[39mjavascript:pageObj.sendPage(\u001b[39;49m\u001b[39m\\'\u001b[39;49;00m\u001b[39m20001\u001b[39;49m\u001b[39m\\'\u001b[39;49;00m\u001b[39m);\u001b[39;49m\u001b[39m\"\u001b[39;49m\u001b[39m]\u001b[39;49m\u001b[39m'\u001b[39;49m)\u001b[39m.\u001b[39mclick()\n",
      "File \u001b[1;32mc:\\Users\\Chiwoong\\AppData\\Local\\Programs\\Python\\Python310\\lib\\site-packages\\selenium\\webdriver\\remote\\webdriver.py:831\u001b[0m, in \u001b[0;36mWebDriver.find_element\u001b[1;34m(self, by, value)\u001b[0m\n\u001b[0;32m    828\u001b[0m     by \u001b[39m=\u001b[39m By\u001b[39m.\u001b[39mCSS_SELECTOR\n\u001b[0;32m    829\u001b[0m     value \u001b[39m=\u001b[39m \u001b[39mf\u001b[39m\u001b[39m'\u001b[39m\u001b[39m[name=\u001b[39m\u001b[39m\"\u001b[39m\u001b[39m{\u001b[39;00mvalue\u001b[39m}\u001b[39;00m\u001b[39m\"\u001b[39m\u001b[39m]\u001b[39m\u001b[39m'\u001b[39m\n\u001b[1;32m--> 831\u001b[0m \u001b[39mreturn\u001b[39;00m \u001b[39mself\u001b[39;49m\u001b[39m.\u001b[39;49mexecute(Command\u001b[39m.\u001b[39;49mFIND_ELEMENT, {\u001b[39m\"\u001b[39;49m\u001b[39musing\u001b[39;49m\u001b[39m\"\u001b[39;49m: by, \u001b[39m\"\u001b[39;49m\u001b[39mvalue\u001b[39;49m\u001b[39m\"\u001b[39;49m: value})[\u001b[39m\"\u001b[39m\u001b[39mvalue\u001b[39m\u001b[39m\"\u001b[39m]\n",
      "File \u001b[1;32mc:\\Users\\Chiwoong\\AppData\\Local\\Programs\\Python\\Python310\\lib\\site-packages\\selenium\\webdriver\\remote\\webdriver.py:440\u001b[0m, in \u001b[0;36mWebDriver.execute\u001b[1;34m(self, driver_command, params)\u001b[0m\n\u001b[0;32m    438\u001b[0m response \u001b[39m=\u001b[39m \u001b[39mself\u001b[39m\u001b[39m.\u001b[39mcommand_executor\u001b[39m.\u001b[39mexecute(driver_command, params)\n\u001b[0;32m    439\u001b[0m \u001b[39mif\u001b[39;00m response:\n\u001b[1;32m--> 440\u001b[0m     \u001b[39mself\u001b[39;49m\u001b[39m.\u001b[39;49merror_handler\u001b[39m.\u001b[39;49mcheck_response(response)\n\u001b[0;32m    441\u001b[0m     response[\u001b[39m\"\u001b[39m\u001b[39mvalue\u001b[39m\u001b[39m\"\u001b[39m] \u001b[39m=\u001b[39m \u001b[39mself\u001b[39m\u001b[39m.\u001b[39m_unwrap_value(response\u001b[39m.\u001b[39mget(\u001b[39m\"\u001b[39m\u001b[39mvalue\u001b[39m\u001b[39m\"\u001b[39m, \u001b[39mNone\u001b[39;00m))\n\u001b[0;32m    442\u001b[0m     \u001b[39mreturn\u001b[39;00m response\n",
      "File \u001b[1;32mc:\\Users\\Chiwoong\\AppData\\Local\\Programs\\Python\\Python310\\lib\\site-packages\\selenium\\webdriver\\remote\\errorhandler.py:245\u001b[0m, in \u001b[0;36mErrorHandler.check_response\u001b[1;34m(self, response)\u001b[0m\n\u001b[0;32m    243\u001b[0m         alert_text \u001b[39m=\u001b[39m value[\u001b[39m\"\u001b[39m\u001b[39malert\u001b[39m\u001b[39m\"\u001b[39m]\u001b[39m.\u001b[39mget(\u001b[39m\"\u001b[39m\u001b[39mtext\u001b[39m\u001b[39m\"\u001b[39m)\n\u001b[0;32m    244\u001b[0m     \u001b[39mraise\u001b[39;00m exception_class(message, screen, stacktrace, alert_text)  \u001b[39m# type: ignore[call-arg]  # mypy is not smart enough here\u001b[39;00m\n\u001b[1;32m--> 245\u001b[0m \u001b[39mraise\u001b[39;00m exception_class(message, screen, stacktrace)\n",
      "\u001b[1;31mNoSuchElementException\u001b[0m: Message: no such element: Unable to locate element: {\"method\":\"xpath\",\"selector\":\"//a[@href=\"javascript:pageObj.sendPage('20001');\"]\"}\n  (Session info: chrome=113.0.5672.127)\nStacktrace:\nBacktrace:\n\tGetHandleVerifier [0x009F8893+48451]\n\t(No symbol) [0x0098B8A1]\n\t(No symbol) [0x00895058]\n\t(No symbol) [0x008C0467]\n\t(No symbol) [0x008C069B]\n\t(No symbol) [0x008EDD92]\n\t(No symbol) [0x008DA304]\n\t(No symbol) [0x008EC482]\n\t(No symbol) [0x008DA0B6]\n\t(No symbol) [0x008B7E08]\n\t(No symbol) [0x008B8F2D]\n\tGetHandleVerifier [0x00C58E3A+2540266]\n\tGetHandleVerifier [0x00C98959+2801161]\n\tGetHandleVerifier [0x00C9295C+2776588]\n\tGetHandleVerifier [0x00A82280+612144]\n\t(No symbol) [0x00994F6C]\n\t(No symbol) [0x009911D8]\n\t(No symbol) [0x009912BB]\n\t(No symbol) [0x00984857]\n\tBaseThreadInitThunk [0x767D00C9+25]\n\tRtlGetAppContainerNamedObjectPath [0x770F7B4E+286]\n\tRtlGetAppContainerNamedObjectPath [0x770F7B1E+238]\n"
     ]
    }
   ],
   "source": [
    "driver.find_element(By.XPATH, '//a[@href=\"javascript:pageObj.sendPage(\\'20001\\');\"]').click()"
   ]
  },
  {
   "cell_type": "code",
   "execution_count": 21,
   "id": "0d1e6359",
   "metadata": {},
   "outputs": [],
   "source": [
    "# CSV 파일로 저장\n",
    "df.to_csv('lyrics_ballad(1-24000).csv', index=False, encoding='utf-8-sig')"
   ]
  },
  {
   "cell_type": "code",
   "execution_count": null,
   "id": "fe3cd5db",
   "metadata": {},
   "outputs": [],
   "source": [
    "# 반복문 시작\n",
    "for i in range(0,number):\n",
    "    # 곡정보 더보기 버튼 클릭\n",
    "    more_info_list = driver.find_elements(By.CSS_SELECTOR, \".btn.button_icons.type03.song_info\")\n",
    "    more_info_list[i].click()\n",
    "    time.sleep(1)\n",
    "    # 크롤링\n",
    "    try : \n",
    "        music_info = {}  # 개별 블로그 내용을 담을 딕셔너리 생성\n",
    "        time.sleep(1)\n",
    "    except:\n",
    "        pass\n",
    "        \n",
    "        "
   ]
  }
 ],
 "metadata": {
  "kernelspec": {
   "display_name": "Python 3 (ipykernel)",
   "language": "python",
   "name": "python3"
  },
  "language_info": {
   "codemirror_mode": {
    "name": "ipython",
    "version": 3
   },
   "file_extension": ".py",
   "mimetype": "text/x-python",
   "name": "python",
   "nbconvert_exporter": "python",
   "pygments_lexer": "ipython3",
   "version": "3.9.7"
  }
 },
 "nbformat": 4,
 "nbformat_minor": 5
}
